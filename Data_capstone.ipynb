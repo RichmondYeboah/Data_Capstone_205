{
 "cells": [
  {
   "cell_type": "code",
   "execution_count": 1,
   "metadata": {
    "id": "Wuzj7aJ9-EtC"
   },
   "outputs": [],
   "source": [
    "import pandas as pd\n",
    "import numpy as np\n",
    "import os,datetime\n",
    "import numpy as np\n",
    "import matplotlib.pyplot as plt\n",
    "import seaborn as sns\n",
    "import folium as fm\n",
    "from folium.plugins import MarkerCluster, HeatMap\n",
    "# pip install folium - to install folium"
   ]
  },
  {
   "cell_type": "code",
   "execution_count": 2,
   "metadata": {
    "colab": {
     "base_uri": "https://localhost:8080/"
    },
    "id": "6LvcThCF-Tf3",
    "outputId": "bf9b4043-3dc1-44dc-a0d3-31d4d8d75f69"
   },
   "outputs": [
    {
     "name": "stderr",
     "output_type": "stream",
     "text": [
      "/Users/richmond/opt/anaconda3/lib/python3.9/site-packages/IPython/core/interactiveshell.py:3444: DtypeWarning: Columns (19,20,21,22,23,24,25,34) have mixed types.Specify dtype option on import or set low_memory=False.\n",
      "  exec(code_obj, self.user_global_ns, self.user_ns)\n"
     ]
    },
    {
     "data": {
      "text/plain": [
       "(1773774, 43)"
      ]
     },
     "execution_count": 2,
     "metadata": {},
     "output_type": "execute_result"
    }
   ],
   "source": [
    "# Download the dataset here - https://data.montgomerycountymd.gov/Public-Safety/Traffic-Violations/4mse-ku6q\n",
    "traffic = pd.read_csv('Traffic_Violations.csv')\n",
    "traffic.shape"
   ]
  },
  {
   "cell_type": "code",
   "execution_count": 3,
   "metadata": {
    "colab": {
     "base_uri": "https://localhost:8080/"
    },
    "id": "nlucZCDpABrK",
    "outputId": "316ad7bf-da46-4642-d5ec-89ca671d3a57"
   },
   "outputs": [
    {
     "name": "stdout",
     "output_type": "stream",
     "text": [
      "<class 'pandas.core.frame.DataFrame'>\n",
      "RangeIndex: 1773774 entries, 0 to 1773773\n",
      "Data columns (total 43 columns):\n",
      " #   Column                   Dtype  \n",
      "---  ------                   -----  \n",
      " 0   SeqID                    object \n",
      " 1   Date Of Stop             object \n",
      " 2   Time Of Stop             object \n",
      " 3   Agency                   object \n",
      " 4   SubAgency                object \n",
      " 5   Description              object \n",
      " 6   Location                 object \n",
      " 7   Latitude                 float64\n",
      " 8   Longitude                float64\n",
      " 9   Accident                 object \n",
      " 10  Belts                    object \n",
      " 11  Personal Injury          object \n",
      " 12  Property Damage          object \n",
      " 13  Fatal                    object \n",
      " 14  Commercial License       object \n",
      " 15  HAZMAT                   object \n",
      " 16  Commercial Vehicle       object \n",
      " 17  Alcohol                  object \n",
      " 18  Work Zone                object \n",
      " 19  Search Conducted         object \n",
      " 20  Search Disposition       object \n",
      " 21  Search Outcome           object \n",
      " 22  Search Reason            object \n",
      " 23  Search Reason For Stop   object \n",
      " 24  Search Type              object \n",
      " 25  Search Arrest Reason     object \n",
      " 26  State                    object \n",
      " 27  VehicleType              object \n",
      " 28  Year                     float64\n",
      " 29  Make                     object \n",
      " 30  Model                    object \n",
      " 31  Color                    object \n",
      " 32  Violation Type           object \n",
      " 33  Charge                   object \n",
      " 34  Article                  object \n",
      " 35  Contributed To Accident  bool   \n",
      " 36  Race                     object \n",
      " 37  Gender                   object \n",
      " 38  Driver City              object \n",
      " 39  Driver State             object \n",
      " 40  DL State                 object \n",
      " 41  Arrest Type              object \n",
      " 42  Geolocation              object \n",
      "dtypes: bool(1), float64(3), object(39)\n",
      "memory usage: 570.1+ MB\n"
     ]
    }
   ],
   "source": [
    "traffic.info()"
   ]
  },
  {
   "cell_type": "code",
   "execution_count": 4,
   "metadata": {
    "colab": {
     "base_uri": "https://localhost:8080/",
     "height": 664
    },
    "id": "q2zI2ant_ZGZ",
    "outputId": "75a3b4ab-767f-448a-a436-08f12a31238a"
   },
   "outputs": [
    {
     "data": {
      "text/html": [
       "<div>\n",
       "<style scoped>\n",
       "    .dataframe tbody tr th:only-of-type {\n",
       "        vertical-align: middle;\n",
       "    }\n",
       "\n",
       "    .dataframe tbody tr th {\n",
       "        vertical-align: top;\n",
       "    }\n",
       "\n",
       "    .dataframe thead th {\n",
       "        text-align: right;\n",
       "    }\n",
       "</style>\n",
       "<table border=\"1\" class=\"dataframe\">\n",
       "  <thead>\n",
       "    <tr style=\"text-align: right;\">\n",
       "      <th></th>\n",
       "      <th>SeqID</th>\n",
       "      <th>Date Of Stop</th>\n",
       "      <th>Time Of Stop</th>\n",
       "      <th>Agency</th>\n",
       "      <th>SubAgency</th>\n",
       "      <th>Description</th>\n",
       "      <th>Location</th>\n",
       "      <th>Latitude</th>\n",
       "      <th>Longitude</th>\n",
       "      <th>Accident</th>\n",
       "      <th>...</th>\n",
       "      <th>Charge</th>\n",
       "      <th>Article</th>\n",
       "      <th>Contributed To Accident</th>\n",
       "      <th>Race</th>\n",
       "      <th>Gender</th>\n",
       "      <th>Driver City</th>\n",
       "      <th>Driver State</th>\n",
       "      <th>DL State</th>\n",
       "      <th>Arrest Type</th>\n",
       "      <th>Geolocation</th>\n",
       "    </tr>\n",
       "  </thead>\n",
       "  <tbody>\n",
       "    <tr>\n",
       "      <th>0</th>\n",
       "      <td>fbc324ab-bc8d-4743-ba23-7f9f370005e1</td>\n",
       "      <td>08/11/2019</td>\n",
       "      <td>20:02:00</td>\n",
       "      <td>MCP</td>\n",
       "      <td>2nd District, Bethesda</td>\n",
       "      <td>LEAVING UNATTENDED VEH. W/O STOPPING ENGINE, L...</td>\n",
       "      <td>CORDELL ST @ NORFOLK AVE.</td>\n",
       "      <td>38.989743</td>\n",
       "      <td>-77.097770</td>\n",
       "      <td>No</td>\n",
       "      <td>...</td>\n",
       "      <td>21-1101(a)</td>\n",
       "      <td>Transportation Article</td>\n",
       "      <td>False</td>\n",
       "      <td>BLACK</td>\n",
       "      <td>M</td>\n",
       "      <td>SILVER SPRING</td>\n",
       "      <td>MD</td>\n",
       "      <td>MD</td>\n",
       "      <td>A - Marked Patrol</td>\n",
       "      <td>(38.9897433333333, -77.09777)</td>\n",
       "    </tr>\n",
       "    <tr>\n",
       "      <th>1</th>\n",
       "      <td>a6d904ec-d666-4bc3-8984-f37a4b31854d</td>\n",
       "      <td>08/12/2019</td>\n",
       "      <td>13:41:00</td>\n",
       "      <td>MCP</td>\n",
       "      <td>2nd District, Bethesda</td>\n",
       "      <td>EXCEEDING POSTED MAXIMUM SPEED LIMIT: 85 MPH I...</td>\n",
       "      <td>NBI270 AT MIDDLEBROOK RD</td>\n",
       "      <td>39.174110</td>\n",
       "      <td>-77.246170</td>\n",
       "      <td>No</td>\n",
       "      <td>...</td>\n",
       "      <td>21-801.1</td>\n",
       "      <td>Transportation Article</td>\n",
       "      <td>False</td>\n",
       "      <td>WHITE</td>\n",
       "      <td>M</td>\n",
       "      <td>SILVER SPRING</td>\n",
       "      <td>MD</td>\n",
       "      <td>MD</td>\n",
       "      <td>A - Marked Patrol</td>\n",
       "      <td>(39.17411, -77.24617)</td>\n",
       "    </tr>\n",
       "    <tr>\n",
       "      <th>2</th>\n",
       "      <td>54a64f6a-df28-4b65-a335-08883866aa46</td>\n",
       "      <td>08/12/2019</td>\n",
       "      <td>21:00:00</td>\n",
       "      <td>MCP</td>\n",
       "      <td>5th District, Germantown</td>\n",
       "      <td>DRIVING VEH W/ TV-TYPE RECEIVING VIDEO EQUIP T...</td>\n",
       "      <td>MIDDLEBROOK AN 355</td>\n",
       "      <td>39.182015</td>\n",
       "      <td>-77.238221</td>\n",
       "      <td>No</td>\n",
       "      <td>...</td>\n",
       "      <td>21-1129</td>\n",
       "      <td>Transportation Article</td>\n",
       "      <td>False</td>\n",
       "      <td>BLACK</td>\n",
       "      <td>M</td>\n",
       "      <td>GAITHERSBURG</td>\n",
       "      <td>MD</td>\n",
       "      <td>MD</td>\n",
       "      <td>A - Marked Patrol</td>\n",
       "      <td>(39.1820155, -77.2382213333333)</td>\n",
       "    </tr>\n",
       "    <tr>\n",
       "      <th>3</th>\n",
       "      <td>cf5479b6-9bc7-4216-a7b2-99e57ae932af</td>\n",
       "      <td>08/12/2019</td>\n",
       "      <td>21:43:00</td>\n",
       "      <td>MCP</td>\n",
       "      <td>5th District, Germantown</td>\n",
       "      <td>DRIVING VEHICLE ON HIGHWAY WITH SUSPENDED REGI...</td>\n",
       "      <td>GERMANTOWN RD AND ALE HOUSE</td>\n",
       "      <td>39.160508</td>\n",
       "      <td>-77.284023</td>\n",
       "      <td>No</td>\n",
       "      <td>...</td>\n",
       "      <td>13-401(h)</td>\n",
       "      <td>Transportation Article</td>\n",
       "      <td>False</td>\n",
       "      <td>BLACK</td>\n",
       "      <td>M</td>\n",
       "      <td>GERMANTOWN</td>\n",
       "      <td>MD</td>\n",
       "      <td>MD</td>\n",
       "      <td>A - Marked Patrol</td>\n",
       "      <td>(39.1605076666667, -77.284023)</td>\n",
       "    </tr>\n",
       "    <tr>\n",
       "      <th>4</th>\n",
       "      <td>5601ca35-8ee7-4f8e-9208-d89cde96d469</td>\n",
       "      <td>08/12/2019</td>\n",
       "      <td>21:30:00</td>\n",
       "      <td>MCP</td>\n",
       "      <td>2nd District, Bethesda</td>\n",
       "      <td>FAILURE OF LICENSEE TO NOTIFY ADMINISTRATION O...</td>\n",
       "      <td>EASTWEST/ 355</td>\n",
       "      <td>38.984247</td>\n",
       "      <td>-77.090548</td>\n",
       "      <td>No</td>\n",
       "      <td>...</td>\n",
       "      <td>16-116(a)</td>\n",
       "      <td>Transportation Article</td>\n",
       "      <td>False</td>\n",
       "      <td>BLACK</td>\n",
       "      <td>M</td>\n",
       "      <td>SILVER SPRING</td>\n",
       "      <td>MD</td>\n",
       "      <td>MD</td>\n",
       "      <td>A - Marked Patrol</td>\n",
       "      <td>(38.9842466666667, -77.0905483333333)</td>\n",
       "    </tr>\n",
       "  </tbody>\n",
       "</table>\n",
       "<p>5 rows × 43 columns</p>\n",
       "</div>"
      ],
      "text/plain": [
       "                                  SeqID Date Of Stop Time Of Stop Agency  \\\n",
       "0  fbc324ab-bc8d-4743-ba23-7f9f370005e1   08/11/2019     20:02:00    MCP   \n",
       "1  a6d904ec-d666-4bc3-8984-f37a4b31854d   08/12/2019     13:41:00    MCP   \n",
       "2  54a64f6a-df28-4b65-a335-08883866aa46   08/12/2019     21:00:00    MCP   \n",
       "3  cf5479b6-9bc7-4216-a7b2-99e57ae932af   08/12/2019     21:43:00    MCP   \n",
       "4  5601ca35-8ee7-4f8e-9208-d89cde96d469   08/12/2019     21:30:00    MCP   \n",
       "\n",
       "                  SubAgency  \\\n",
       "0    2nd District, Bethesda   \n",
       "1    2nd District, Bethesda   \n",
       "2  5th District, Germantown   \n",
       "3  5th District, Germantown   \n",
       "4    2nd District, Bethesda   \n",
       "\n",
       "                                         Description  \\\n",
       "0  LEAVING UNATTENDED VEH. W/O STOPPING ENGINE, L...   \n",
       "1  EXCEEDING POSTED MAXIMUM SPEED LIMIT: 85 MPH I...   \n",
       "2  DRIVING VEH W/ TV-TYPE RECEIVING VIDEO EQUIP T...   \n",
       "3  DRIVING VEHICLE ON HIGHWAY WITH SUSPENDED REGI...   \n",
       "4  FAILURE OF LICENSEE TO NOTIFY ADMINISTRATION O...   \n",
       "\n",
       "                      Location   Latitude  Longitude Accident  ...  \\\n",
       "0    CORDELL ST @ NORFOLK AVE.  38.989743 -77.097770       No  ...   \n",
       "1     NBI270 AT MIDDLEBROOK RD  39.174110 -77.246170       No  ...   \n",
       "2           MIDDLEBROOK AN 355  39.182015 -77.238221       No  ...   \n",
       "3  GERMANTOWN RD AND ALE HOUSE  39.160508 -77.284023       No  ...   \n",
       "4                EASTWEST/ 355  38.984247 -77.090548       No  ...   \n",
       "\n",
       "       Charge                 Article Contributed To Accident   Race Gender  \\\n",
       "0  21-1101(a)  Transportation Article                   False  BLACK      M   \n",
       "1    21-801.1  Transportation Article                   False  WHITE      M   \n",
       "2     21-1129  Transportation Article                   False  BLACK      M   \n",
       "3   13-401(h)  Transportation Article                   False  BLACK      M   \n",
       "4   16-116(a)  Transportation Article                   False  BLACK      M   \n",
       "\n",
       "     Driver City Driver State DL State        Arrest Type  \\\n",
       "0  SILVER SPRING           MD       MD  A - Marked Patrol   \n",
       "1  SILVER SPRING           MD       MD  A - Marked Patrol   \n",
       "2   GAITHERSBURG           MD       MD  A - Marked Patrol   \n",
       "3     GERMANTOWN           MD       MD  A - Marked Patrol   \n",
       "4  SILVER SPRING           MD       MD  A - Marked Patrol   \n",
       "\n",
       "                             Geolocation  \n",
       "0          (38.9897433333333, -77.09777)  \n",
       "1                  (39.17411, -77.24617)  \n",
       "2        (39.1820155, -77.2382213333333)  \n",
       "3         (39.1605076666667, -77.284023)  \n",
       "4  (38.9842466666667, -77.0905483333333)  \n",
       "\n",
       "[5 rows x 43 columns]"
      ]
     },
     "execution_count": 4,
     "metadata": {},
     "output_type": "execute_result"
    }
   ],
   "source": [
    "traffic.head()"
   ]
  },
  {
   "cell_type": "markdown",
   "metadata": {
    "id": "KD-KB8dHBA4c"
   },
   "source": [
    "> #### What are the top 5 traffic stop violations ?"
   ]
  },
  {
   "cell_type": "code",
   "execution_count": 5,
   "metadata": {
    "colab": {
     "base_uri": "https://localhost:8080/"
    },
    "id": "-gIshasMAO7k",
    "outputId": "e522c2be-170f-4327-dc20-34697ee0841f"
   },
   "outputs": [
    {
     "data": {
      "text/plain": [
       "DRIVER FAILURE TO OBEY PROPERLY PLACED TRAFFIC CONTROL DEVICE INSTRUCTIONS                   147486\n",
       "FAILURE TO DISPLAY REGISTRATION CARD UPON DEMAND BY POLICE OFFICER                            81098\n",
       "DRIVING VEHICLE ON HIGHWAY WITH SUSPENDED REGISTRATION                                        53011\n",
       "FAILURE OF INDIVIDUAL DRIVING ON HIGHWAY TO DISPLAY LICENSE TO UNIFORMED POLICE ON DEMAND     46610\n",
       "DRIVER USING HANDS TO USE HANDHELD TELEPHONE WHILEMOTOR VEHICLE IS IN MOTION                  43177\n",
       "Name: Description, dtype: int64"
      ]
     },
     "execution_count": 5,
     "metadata": {},
     "output_type": "execute_result"
    }
   ],
   "source": [
    "traffic['Description'].value_counts().head(5)"
   ]
  },
  {
   "cell_type": "markdown",
   "metadata": {
    "id": "-kJCZM73N7-S"
   },
   "source": [
    "#### Let's look at Traffic Violations and car color\n"
   ]
  },
  {
   "cell_type": "code",
   "execution_count": 6,
   "metadata": {
    "colab": {
     "base_uri": "https://localhost:8080/"
    },
    "id": "JLX8i7QJN3Kw",
    "outputId": "8da50a17-2f48-4993-95f3-805813406915"
   },
   "outputs": [
    {
     "data": {
      "text/plain": [
       "BLACK          367016\n",
       "SILVER         322035\n",
       "WHITE          282118\n",
       "GRAY           206338\n",
       "RED            136849\n",
       "BLUE           129611\n",
       "GREEN           59070\n",
       "GOLD            51976\n",
       "BLUE, DARK      37297\n",
       "TAN             33358\n",
       "MAROON          29696\n",
       "BLUE, LIGHT     21903\n",
       "BEIGE           18668\n",
       "GREEN, DK       17369\n",
       "GREEN, LGT       9285\n",
       "BROWN            7822\n",
       "YELLOW           6476\n",
       "ORANGE           6196\n",
       "BRONZE           3887\n",
       "PURPLE           3253\n",
       "MULTICOLOR       1325\n",
       "CREAM            1042\n",
       "COPPER            534\n",
       "PINK              253\n",
       "CHROME             44\n",
       "CAMOUFLAGE         36\n",
       "Name: Color, dtype: int64"
      ]
     },
     "execution_count": 6,
     "metadata": {},
     "output_type": "execute_result"
    }
   ],
   "source": [
    "traffic['Color'].value_counts()"
   ]
  },
  {
   "cell_type": "code",
   "execution_count": 7,
   "metadata": {
    "colab": {
     "base_uri": "https://localhost:8080/"
    },
    "id": "7jCPNDYwlnkn",
    "outputId": "c14e350d-b9a1-42f2-bfc3-72bbe062aa89",
    "scrolled": true
   },
   "outputs": [
    {
     "data": {
      "text/plain": [
       "03/17/2015    1281\n",
       "04/10/2018    1277\n",
       "05/20/2014    1222\n",
       "03/05/2019    1186\n",
       "04/18/2018    1185\n",
       "Name: Date Of Stop, dtype: int64"
      ]
     },
     "execution_count": 7,
     "metadata": {},
     "output_type": "execute_result"
    }
   ],
   "source": [
    "traffic['Date Of Stop'].value_counts().head(5)"
   ]
  },
  {
   "cell_type": "code",
   "execution_count": 8,
   "metadata": {},
   "outputs": [
    {
     "data": {
      "text/plain": [
       "Color   Date Of Stop  Location                             \n",
       "GRAY    04/27/2017    ARCOLA AT PARKER                         59\n",
       "SILVER  12/11/2021    CHERRY HILL RD AND BROADBIRCH DR         46\n",
       "        01/06/2020    NEW HAMPSHIRE AVE @ OAKLAWN DR           43\n",
       "BROWN   12/04/2016    4308 LYNBROOK DR BETHESDA MD 20814       43\n",
       "MAROON  03/25/2014    4020 POSTGATE TER (VEH PURSUIT)          42\n",
       "                                                               ..\n",
       "RED     03/24/2015    BATCHELLORS FOREST RD AND GEORGIA AVE     1\n",
       "BLUE    05/06/2013    GRUBB ROAD / SPENCER ROAD                 1\n",
       "RED     03/24/2015    8800 BLK PINEY BRANCH ROAD                1\n",
       "                      495 OUTER LOOP @ EXIT 30                  1\n",
       "GREEN   05/15/2019    SB GEORGIA AVE / HEWITT AVE               1\n",
       "Length: 901226, dtype: int64"
      ]
     },
     "execution_count": 8,
     "metadata": {},
     "output_type": "execute_result"
    }
   ],
   "source": [
    "traffic[['Color','Date Of Stop','Location']].value_counts()"
   ]
  },
  {
   "cell_type": "code",
   "execution_count": 9,
   "metadata": {},
   "outputs": [
    {
     "data": {
      "text/plain": [
       "Color   Location                            \n",
       "BLACK   WAYNE AVE @ DALE DR                     595\n",
       "        IS 370 @ IS 270                         451\n",
       "SILVER  MONTGOMERY VILLAGE AVE @ RUSSELL AVE    451\n",
       "        WAYNE AVE @ DALE DR                     450\n",
       "        COLESVILLE RD @ GEORGIA AVE             443\n",
       "                                               ... \n",
       "GRAY    TILDEN LA/ROSELAND DR                     1\n",
       "        TILDEN LA/LUXAMONOR RD                    1\n",
       "        TILDEN LA AT OLD STAGE RD                 1\n",
       "        TILDEN LA AT MARCLIFF RD                  1\n",
       "GREEN   GEORGIA AVE / RIPPLING BROOK DR           1\n",
       "Length: 487116, dtype: int64"
      ]
     },
     "execution_count": 9,
     "metadata": {},
     "output_type": "execute_result"
    }
   ],
   "source": [
    "traffic[['Color','Location']].value_counts()"
   ]
  },
  {
   "cell_type": "code",
   "execution_count": 10,
   "metadata": {
    "colab": {
     "base_uri": "https://localhost:8080/"
    },
    "id": "QTDxlsmplyJy",
    "outputId": "9006c5d0-1557-439d-bc61-bf8a3f896f32"
   },
   "outputs": [
    {
     "data": {
      "text/plain": [
       "WAYNE AVE @ DALE DR                     2311\n",
       "MONTGOMERY VILLAGE AVE @ RUSSELL AVE    2162\n",
       "IS 370 @ IS 270                         1982\n",
       "W/B IS 370 @ IS 270                     1884\n",
       "WOODFIELD RD @ EMORY GROVE RD           1872\n",
       "Name: Location, dtype: int64"
      ]
     },
     "execution_count": 10,
     "metadata": {},
     "output_type": "execute_result"
    }
   ],
   "source": [
    "traffic['Location'].value_counts().head(5)"
   ]
  },
  {
   "cell_type": "markdown",
   "metadata": {},
   "source": [
    "#### What are the most Counted Values by time frame"
   ]
  },
  {
   "cell_type": "code",
   "execution_count": 11,
   "metadata": {
    "colab": {
     "base_uri": "https://localhost:8080/",
     "height": 664
    },
    "id": "KRQXQJB4FEN2",
    "outputId": "20feb030-5e76-49f8-8d0a-81b4994840a4"
   },
   "outputs": [
    {
     "data": {
      "text/html": [
       "<div>\n",
       "<style scoped>\n",
       "    .dataframe tbody tr th:only-of-type {\n",
       "        vertical-align: middle;\n",
       "    }\n",
       "\n",
       "    .dataframe tbody tr th {\n",
       "        vertical-align: top;\n",
       "    }\n",
       "\n",
       "    .dataframe thead th {\n",
       "        text-align: right;\n",
       "    }\n",
       "</style>\n",
       "<table border=\"1\" class=\"dataframe\">\n",
       "  <thead>\n",
       "    <tr style=\"text-align: right;\">\n",
       "      <th></th>\n",
       "      <th>SeqID</th>\n",
       "      <th>Date Of Stop</th>\n",
       "      <th>Time Of Stop</th>\n",
       "      <th>Agency</th>\n",
       "      <th>SubAgency</th>\n",
       "      <th>Description</th>\n",
       "      <th>Location</th>\n",
       "      <th>Latitude</th>\n",
       "      <th>Longitude</th>\n",
       "      <th>Accident</th>\n",
       "      <th>...</th>\n",
       "      <th>Article</th>\n",
       "      <th>Contributed To Accident</th>\n",
       "      <th>Race</th>\n",
       "      <th>Gender</th>\n",
       "      <th>Driver City</th>\n",
       "      <th>Driver State</th>\n",
       "      <th>DL State</th>\n",
       "      <th>Arrest Type</th>\n",
       "      <th>Geolocation</th>\n",
       "      <th>date_time</th>\n",
       "    </tr>\n",
       "  </thead>\n",
       "  <tbody>\n",
       "    <tr>\n",
       "      <th>0</th>\n",
       "      <td>fbc324ab-bc8d-4743-ba23-7f9f370005e1</td>\n",
       "      <td>08/11/2019</td>\n",
       "      <td>20:02:00</td>\n",
       "      <td>MCP</td>\n",
       "      <td>2nd District, Bethesda</td>\n",
       "      <td>LEAVING UNATTENDED VEH. W/O STOPPING ENGINE, L...</td>\n",
       "      <td>CORDELL ST @ NORFOLK AVE.</td>\n",
       "      <td>38.989743</td>\n",
       "      <td>-77.097770</td>\n",
       "      <td>No</td>\n",
       "      <td>...</td>\n",
       "      <td>Transportation Article</td>\n",
       "      <td>False</td>\n",
       "      <td>BLACK</td>\n",
       "      <td>M</td>\n",
       "      <td>SILVER SPRING</td>\n",
       "      <td>MD</td>\n",
       "      <td>MD</td>\n",
       "      <td>A - Marked Patrol</td>\n",
       "      <td>(38.9897433333333, -77.09777)</td>\n",
       "      <td>08/11/2019 20:02:00</td>\n",
       "    </tr>\n",
       "    <tr>\n",
       "      <th>1</th>\n",
       "      <td>a6d904ec-d666-4bc3-8984-f37a4b31854d</td>\n",
       "      <td>08/12/2019</td>\n",
       "      <td>13:41:00</td>\n",
       "      <td>MCP</td>\n",
       "      <td>2nd District, Bethesda</td>\n",
       "      <td>EXCEEDING POSTED MAXIMUM SPEED LIMIT: 85 MPH I...</td>\n",
       "      <td>NBI270 AT MIDDLEBROOK RD</td>\n",
       "      <td>39.174110</td>\n",
       "      <td>-77.246170</td>\n",
       "      <td>No</td>\n",
       "      <td>...</td>\n",
       "      <td>Transportation Article</td>\n",
       "      <td>False</td>\n",
       "      <td>WHITE</td>\n",
       "      <td>M</td>\n",
       "      <td>SILVER SPRING</td>\n",
       "      <td>MD</td>\n",
       "      <td>MD</td>\n",
       "      <td>A - Marked Patrol</td>\n",
       "      <td>(39.17411, -77.24617)</td>\n",
       "      <td>08/12/2019 13:41:00</td>\n",
       "    </tr>\n",
       "    <tr>\n",
       "      <th>2</th>\n",
       "      <td>54a64f6a-df28-4b65-a335-08883866aa46</td>\n",
       "      <td>08/12/2019</td>\n",
       "      <td>21:00:00</td>\n",
       "      <td>MCP</td>\n",
       "      <td>5th District, Germantown</td>\n",
       "      <td>DRIVING VEH W/ TV-TYPE RECEIVING VIDEO EQUIP T...</td>\n",
       "      <td>MIDDLEBROOK AN 355</td>\n",
       "      <td>39.182015</td>\n",
       "      <td>-77.238221</td>\n",
       "      <td>No</td>\n",
       "      <td>...</td>\n",
       "      <td>Transportation Article</td>\n",
       "      <td>False</td>\n",
       "      <td>BLACK</td>\n",
       "      <td>M</td>\n",
       "      <td>GAITHERSBURG</td>\n",
       "      <td>MD</td>\n",
       "      <td>MD</td>\n",
       "      <td>A - Marked Patrol</td>\n",
       "      <td>(39.1820155, -77.2382213333333)</td>\n",
       "      <td>08/12/2019 21:00:00</td>\n",
       "    </tr>\n",
       "    <tr>\n",
       "      <th>3</th>\n",
       "      <td>cf5479b6-9bc7-4216-a7b2-99e57ae932af</td>\n",
       "      <td>08/12/2019</td>\n",
       "      <td>21:43:00</td>\n",
       "      <td>MCP</td>\n",
       "      <td>5th District, Germantown</td>\n",
       "      <td>DRIVING VEHICLE ON HIGHWAY WITH SUSPENDED REGI...</td>\n",
       "      <td>GERMANTOWN RD AND ALE HOUSE</td>\n",
       "      <td>39.160508</td>\n",
       "      <td>-77.284023</td>\n",
       "      <td>No</td>\n",
       "      <td>...</td>\n",
       "      <td>Transportation Article</td>\n",
       "      <td>False</td>\n",
       "      <td>BLACK</td>\n",
       "      <td>M</td>\n",
       "      <td>GERMANTOWN</td>\n",
       "      <td>MD</td>\n",
       "      <td>MD</td>\n",
       "      <td>A - Marked Patrol</td>\n",
       "      <td>(39.1605076666667, -77.284023)</td>\n",
       "      <td>08/12/2019 21:43:00</td>\n",
       "    </tr>\n",
       "    <tr>\n",
       "      <th>4</th>\n",
       "      <td>5601ca35-8ee7-4f8e-9208-d89cde96d469</td>\n",
       "      <td>08/12/2019</td>\n",
       "      <td>21:30:00</td>\n",
       "      <td>MCP</td>\n",
       "      <td>2nd District, Bethesda</td>\n",
       "      <td>FAILURE OF LICENSEE TO NOTIFY ADMINISTRATION O...</td>\n",
       "      <td>EASTWEST/ 355</td>\n",
       "      <td>38.984247</td>\n",
       "      <td>-77.090548</td>\n",
       "      <td>No</td>\n",
       "      <td>...</td>\n",
       "      <td>Transportation Article</td>\n",
       "      <td>False</td>\n",
       "      <td>BLACK</td>\n",
       "      <td>M</td>\n",
       "      <td>SILVER SPRING</td>\n",
       "      <td>MD</td>\n",
       "      <td>MD</td>\n",
       "      <td>A - Marked Patrol</td>\n",
       "      <td>(38.9842466666667, -77.0905483333333)</td>\n",
       "      <td>08/12/2019 21:30:00</td>\n",
       "    </tr>\n",
       "  </tbody>\n",
       "</table>\n",
       "<p>5 rows × 44 columns</p>\n",
       "</div>"
      ],
      "text/plain": [
       "                                  SeqID Date Of Stop Time Of Stop Agency  \\\n",
       "0  fbc324ab-bc8d-4743-ba23-7f9f370005e1   08/11/2019     20:02:00    MCP   \n",
       "1  a6d904ec-d666-4bc3-8984-f37a4b31854d   08/12/2019     13:41:00    MCP   \n",
       "2  54a64f6a-df28-4b65-a335-08883866aa46   08/12/2019     21:00:00    MCP   \n",
       "3  cf5479b6-9bc7-4216-a7b2-99e57ae932af   08/12/2019     21:43:00    MCP   \n",
       "4  5601ca35-8ee7-4f8e-9208-d89cde96d469   08/12/2019     21:30:00    MCP   \n",
       "\n",
       "                  SubAgency  \\\n",
       "0    2nd District, Bethesda   \n",
       "1    2nd District, Bethesda   \n",
       "2  5th District, Germantown   \n",
       "3  5th District, Germantown   \n",
       "4    2nd District, Bethesda   \n",
       "\n",
       "                                         Description  \\\n",
       "0  LEAVING UNATTENDED VEH. W/O STOPPING ENGINE, L...   \n",
       "1  EXCEEDING POSTED MAXIMUM SPEED LIMIT: 85 MPH I...   \n",
       "2  DRIVING VEH W/ TV-TYPE RECEIVING VIDEO EQUIP T...   \n",
       "3  DRIVING VEHICLE ON HIGHWAY WITH SUSPENDED REGI...   \n",
       "4  FAILURE OF LICENSEE TO NOTIFY ADMINISTRATION O...   \n",
       "\n",
       "                      Location   Latitude  Longitude Accident  ...  \\\n",
       "0    CORDELL ST @ NORFOLK AVE.  38.989743 -77.097770       No  ...   \n",
       "1     NBI270 AT MIDDLEBROOK RD  39.174110 -77.246170       No  ...   \n",
       "2           MIDDLEBROOK AN 355  39.182015 -77.238221       No  ...   \n",
       "3  GERMANTOWN RD AND ALE HOUSE  39.160508 -77.284023       No  ...   \n",
       "4                EASTWEST/ 355  38.984247 -77.090548       No  ...   \n",
       "\n",
       "                  Article Contributed To Accident   Race Gender  \\\n",
       "0  Transportation Article                   False  BLACK      M   \n",
       "1  Transportation Article                   False  WHITE      M   \n",
       "2  Transportation Article                   False  BLACK      M   \n",
       "3  Transportation Article                   False  BLACK      M   \n",
       "4  Transportation Article                   False  BLACK      M   \n",
       "\n",
       "     Driver City Driver State DL State        Arrest Type  \\\n",
       "0  SILVER SPRING           MD       MD  A - Marked Patrol   \n",
       "1  SILVER SPRING           MD       MD  A - Marked Patrol   \n",
       "2   GAITHERSBURG           MD       MD  A - Marked Patrol   \n",
       "3     GERMANTOWN           MD       MD  A - Marked Patrol   \n",
       "4  SILVER SPRING           MD       MD  A - Marked Patrol   \n",
       "\n",
       "                             Geolocation            date_time  \n",
       "0          (38.9897433333333, -77.09777)  08/11/2019 20:02:00  \n",
       "1                  (39.17411, -77.24617)  08/12/2019 13:41:00  \n",
       "2        (39.1820155, -77.2382213333333)  08/12/2019 21:00:00  \n",
       "3         (39.1605076666667, -77.284023)  08/12/2019 21:43:00  \n",
       "4  (38.9842466666667, -77.0905483333333)  08/12/2019 21:30:00  \n",
       "\n",
       "[5 rows x 44 columns]"
      ]
     },
     "execution_count": 11,
     "metadata": {},
     "output_type": "execute_result"
    }
   ],
   "source": [
    "traffic['date_time'] = traffic['Date Of Stop'] + ' '+ traffic['Time Of Stop']\n",
    "traffic.head(5)"
   ]
  },
  {
   "cell_type": "code",
   "execution_count": 12,
   "metadata": {
    "id": "spdrBy3ZFEN2"
   },
   "outputs": [],
   "source": [
    "traffic['date_time'] = pd.to_datetime(traffic['date_time'])"
   ]
  },
  {
   "cell_type": "code",
   "execution_count": 13,
   "metadata": {
    "id": "Nm5EK6JjFEN2"
   },
   "outputs": [],
   "source": [
    "traffic['date'] = traffic['date_time'].dt.strftime('%m/%d/%Y')\n",
    "traffic['Time'] = traffic['date_time'].dt.strftime('%H:%M')\n",
    "traffic['Day']=traffic['date_time'].dt.strftime('%A')\n",
    "traffic['Month']=traffic['date_time'].dt.strftime('%B')"
   ]
  },
  {
   "cell_type": "code",
   "execution_count": 14,
   "metadata": {
    "colab": {
     "base_uri": "https://localhost:8080/"
    },
    "id": "t9RQVHGpFEN2",
    "outputId": "75e0e589-4828-4ead-9137-fd4700d67678"
   },
   "outputs": [
    {
     "name": "stdout",
     "output_type": "stream",
     "text": [
      "<class 'pandas.core.frame.DataFrame'>\n",
      "RangeIndex: 1773774 entries, 0 to 1773773\n",
      "Data columns (total 48 columns):\n",
      " #   Column                   Dtype         \n",
      "---  ------                   -----         \n",
      " 0   SeqID                    object        \n",
      " 1   Date Of Stop             object        \n",
      " 2   Time Of Stop             object        \n",
      " 3   Agency                   object        \n",
      " 4   SubAgency                object        \n",
      " 5   Description              object        \n",
      " 6   Location                 object        \n",
      " 7   Latitude                 float64       \n",
      " 8   Longitude                float64       \n",
      " 9   Accident                 object        \n",
      " 10  Belts                    object        \n",
      " 11  Personal Injury          object        \n",
      " 12  Property Damage          object        \n",
      " 13  Fatal                    object        \n",
      " 14  Commercial License       object        \n",
      " 15  HAZMAT                   object        \n",
      " 16  Commercial Vehicle       object        \n",
      " 17  Alcohol                  object        \n",
      " 18  Work Zone                object        \n",
      " 19  Search Conducted         object        \n",
      " 20  Search Disposition       object        \n",
      " 21  Search Outcome           object        \n",
      " 22  Search Reason            object        \n",
      " 23  Search Reason For Stop   object        \n",
      " 24  Search Type              object        \n",
      " 25  Search Arrest Reason     object        \n",
      " 26  State                    object        \n",
      " 27  VehicleType              object        \n",
      " 28  Year                     float64       \n",
      " 29  Make                     object        \n",
      " 30  Model                    object        \n",
      " 31  Color                    object        \n",
      " 32  Violation Type           object        \n",
      " 33  Charge                   object        \n",
      " 34  Article                  object        \n",
      " 35  Contributed To Accident  bool          \n",
      " 36  Race                     object        \n",
      " 37  Gender                   object        \n",
      " 38  Driver City              object        \n",
      " 39  Driver State             object        \n",
      " 40  DL State                 object        \n",
      " 41  Arrest Type              object        \n",
      " 42  Geolocation              object        \n",
      " 43  date_time                datetime64[ns]\n",
      " 44  date                     object        \n",
      " 45  Time                     object        \n",
      " 46  Day                      object        \n",
      " 47  Month                    object        \n",
      "dtypes: bool(1), datetime64[ns](1), float64(3), object(43)\n",
      "memory usage: 637.7+ MB\n"
     ]
    }
   ],
   "source": [
    "traffic.info()"
   ]
  },
  {
   "cell_type": "markdown",
   "metadata": {
    "id": "W8bJpoBLFEN2"
   },
   "source": [
    "###### As you can see we've changed the data type of the date column todatetime64[ns]"
   ]
  },
  {
   "cell_type": "markdown",
   "metadata": {
    "id": "p6SN8d2-FEN2"
   },
   "source": [
    "###### Which Traffic Violation has the highest counts by the Day of week "
   ]
  },
  {
   "cell_type": "code",
   "execution_count": 15,
   "metadata": {
    "colab": {
     "base_uri": "https://localhost:8080/"
    },
    "id": "j8GVa8DpFEN2",
    "outputId": "36b68db1-13ac-4444-b80f-049ebba1f85d"
   },
   "outputs": [
    {
     "data": {
      "text/plain": [
       "Tuesday      311615\n",
       "Wednesday    289144\n",
       "Friday       275043\n",
       "Thursday     275019\n",
       "Monday       238114\n",
       "Saturday     202830\n",
       "Sunday       182009\n",
       "Name: Day, dtype: int64"
      ]
     },
     "execution_count": 15,
     "metadata": {},
     "output_type": "execute_result"
    }
   ],
   "source": [
    "traffic_by_day = traffic['Day'].value_counts()\n",
    "traffic_by_day"
   ]
  },
  {
   "cell_type": "code",
   "execution_count": 16,
   "metadata": {},
   "outputs": [
    {
     "data": {
      "text/plain": [
       "Description                                                                 Day      \n",
       "DRIVER FAILURE TO OBEY PROPERLY PLACED TRAFFIC CONTROL DEVICE INSTRUCTIONS  Tuesday      27831\n",
       "                                                                            Wednesday    24272\n",
       "                                                                            Thursday     24153\n",
       "                                                                            Friday       23854\n",
       "                                                                            Monday       21533\n",
       "FAILURE TO DISPLAY REGISTRATION CARD UPON DEMAND BY POLICE OFFICER          Tuesday      14802\n",
       "DRIVER FAILURE TO OBEY PROPERLY PLACED TRAFFIC CONTROL DEVICE INSTRUCTIONS  Saturday     13758\n",
       "FAILURE TO DISPLAY REGISTRATION CARD UPON DEMAND BY POLICE OFFICER          Wednesday    13295\n",
       "                                                                            Thursday     12570\n",
       "                                                                            Friday       12191\n",
       "dtype: int64"
      ]
     },
     "execution_count": 16,
     "metadata": {},
     "output_type": "execute_result"
    }
   ],
   "source": [
    "traffic[[\"Description\",'Day']].value_counts().head(10)"
   ]
  },
  {
   "cell_type": "code",
   "execution_count": 17,
   "metadata": {},
   "outputs": [],
   "source": [
    "from pandas.api.types import CategoricalDtype\n",
    "day_week = ['Monday', 'Tuesday', 'Wednesday', 'Thursday', 'Friday', 'Saturday', 'Sunday']\n",
    "day_of_the_week = CategoricalDtype(categories=day_week, ordered = True)\n",
    "traffic['day_of_week'] = traffic['Day'].astype(day_of_the_week)"
   ]
  },
  {
   "cell_type": "code",
   "execution_count": 18,
   "metadata": {
    "colab": {
     "base_uri": "https://localhost:8080/",
     "height": 515
    },
    "id": "1VXxgFGu2OZk",
    "outputId": "9eb316ef-1463-466a-8925-cf4cf232a74d"
   },
   "outputs": [
    {
     "data": {
      "text/plain": [
       "<AxesSubplot:xlabel='day_of_week', ylabel='Count'>"
      ]
     },
     "execution_count": 18,
     "metadata": {},
     "output_type": "execute_result"
    },
    {
     "data": {
      "image/png": "[encoded data removed]",
      "text/plain": [
       "<Figure size 1080x576 with 1 Axes>"
      ]
     },
     "metadata": {
      "needs_background": "light"
     },
     "output_type": "display_data"
    }
   ],
   "source": [
    "plt.figure(figsize=(15,8))\n",
    "sns.histplot(traffic, x=\"day_of_week\", kde=False, bins=7)"
   ]
  },
  {
   "cell_type": "code",
   "execution_count": 19,
   "metadata": {
    "id": "dGNCzC_yFEN2"
   },
   "outputs": [],
   "source": [
    "traffic['year'] = pd.DatetimeIndex(traffic['date_time']).year\n"
   ]
  },
  {
   "cell_type": "code",
   "execution_count": 20,
   "metadata": {
    "colab": {
     "base_uri": "https://localhost:8080/"
    },
    "id": "XU_quYlmFEN3",
    "outputId": "be1ed73a-8c7c-4797-ae52-130df9c2fb3f"
   },
   "outputs": [
    {
     "data": {
      "text/plain": [
       "DRIVER FAILURE TO OBEY PROPERLY PLACED TRAFFIC CONTROL DEVICE INSTRUCTIONS                   8.314860e-02\n",
       "FAILURE TO DISPLAY REGISTRATION CARD UPON DEMAND BY POLICE OFFICER                           4.572085e-02\n",
       "DRIVING VEHICLE ON HIGHWAY WITH SUSPENDED REGISTRATION                                       2.988616e-02\n",
       "FAILURE OF INDIVIDUAL DRIVING ON HIGHWAY TO DISPLAY LICENSE TO UNIFORMED POLICE ON DEMAND    2.627745e-02\n",
       "DRIVER USING HANDS TO USE HANDHELD TELEPHONE WHILEMOTOR VEHICLE IS IN MOTION                 2.434202e-02\n",
       "                                                                                                 ...     \n",
       "INADEQUATE TOWING DEVICE- SAFETY CHAINS WORN                                                 5.637729e-07\n",
       "PROJECTED LOAD NO LIGHT-, ID LIGHT 1/3 REAR LEFT-, CLEARANCE LIGHT R REAR-INOPERATIVE        5.637729e-07\n",
       "OPERATING MOTOR VEHICLE WITH INADEQUATE STEERING AXLES TIRE- left                            5.637729e-07\n",
       "TRUCK RIGHT REAR TURN SIGNAL, ID LIGHT 1 OF 3  INOPERATIVE                                   5.637729e-07\n",
       "DRIVING VEHICLE IN EXCESS OF REASONABLE AND PRUDENT SPEED ON HIGHWAY 71 IN 40                5.637729e-07\n",
       "Name: Description, Length: 15573, dtype: float64"
      ]
     },
     "execution_count": 20,
     "metadata": {},
     "output_type": "execute_result"
    }
   ],
   "source": [
    "traffic[\"Description\"].value_counts(5)"
   ]
  },
  {
   "cell_type": "markdown",
   "metadata": {
    "id": "PtUeQ8KSFEN3"
   },
   "source": [
    "###### Traffic Violations by Gender"
   ]
  },
  {
   "cell_type": "code",
   "execution_count": 21,
   "metadata": {
    "colab": {
     "base_uri": "https://localhost:8080/"
    },
    "id": "uoOtaWeOFEN3",
    "outputId": "797953cb-467b-4410-9755-c3400de37125"
   },
   "outputs": [
    {
     "data": {
      "text/plain": [
       "M    1191538\n",
       "F     579635\n",
       "U       2601\n",
       "Name: Gender, dtype: int64"
      ]
     },
     "execution_count": 21,
     "metadata": {},
     "output_type": "execute_result"
    }
   ],
   "source": [
    "traffic_gender = traffic['Gender'].value_counts()\n",
    "traffic_gender"
   ]
  },
  {
   "cell_type": "markdown",
   "metadata": {
    "id": "tqEfT6V7FEN3"
   },
   "source": [
    "###### Traffic Violation by highest Violations "
   ]
  },
  {
   "cell_type": "code",
   "execution_count": 22,
   "metadata": {
    "colab": {
     "base_uri": "https://localhost:8080/"
    },
    "id": "85Gkj8-8FEN3",
    "outputId": "e0617b91-a097-4046-d900-d07a33a3a458"
   },
   "outputs": [
    {
     "data": {
      "text/plain": [
       "Day        Description                                                               \n",
       "Tuesday    DRIVER FAILURE TO OBEY PROPERLY PLACED TRAFFIC CONTROL DEVICE INSTRUCTIONS    27831\n",
       "Wednesday  DRIVER FAILURE TO OBEY PROPERLY PLACED TRAFFIC CONTROL DEVICE INSTRUCTIONS    24272\n",
       "Thursday   DRIVER FAILURE TO OBEY PROPERLY PLACED TRAFFIC CONTROL DEVICE INSTRUCTIONS    24153\n",
       "Friday     DRIVER FAILURE TO OBEY PROPERLY PLACED TRAFFIC CONTROL DEVICE INSTRUCTIONS    23854\n",
       "Monday     DRIVER FAILURE TO OBEY PROPERLY PLACED TRAFFIC CONTROL DEVICE INSTRUCTIONS    21533\n",
       "Tuesday    FAILURE TO DISPLAY REGISTRATION CARD UPON DEMAND BY POLICE OFFICER            14802\n",
       "Saturday   DRIVER FAILURE TO OBEY PROPERLY PLACED TRAFFIC CONTROL DEVICE INSTRUCTIONS    13758\n",
       "Wednesday  FAILURE TO DISPLAY REGISTRATION CARD UPON DEMAND BY POLICE OFFICER            13295\n",
       "dtype: int64"
      ]
     },
     "execution_count": 22,
     "metadata": {},
     "output_type": "execute_result"
    }
   ],
   "source": [
    "traffic[['Day',\"Description\"]].value_counts().head(8)"
   ]
  },
  {
   "cell_type": "markdown",
   "metadata": {
    "id": "OeENLNhMFEN3"
   },
   "source": [
    "#### Find Violations with highest count and their location"
   ]
  },
  {
   "cell_type": "code",
   "execution_count": 23,
   "metadata": {},
   "outputs": [],
   "source": [
    "traffic = traffic.drop(['Search Conducted', 'Search Disposition', 'Search Outcome', 'Search Reason', 'Search Reason For Stop', 'Search Type', 'Search Arrest Reason', 'Model', 'Article',\n",
    "                        'Driver City', 'Driver State', 'DL State'], axis=1)"
   ]
  },
  {
   "cell_type": "code",
   "execution_count": 24,
   "metadata": {
    "colab": {
     "base_uri": "https://localhost:8080/"
    },
    "id": "kpodJFq-FEN3",
    "outputId": "3569ba48-e0c6-4988-f362-1a05324310e9"
   },
   "outputs": [
    {
     "data": {
      "text/plain": [
       "Day       Description                                                                 Location                  \n",
       "Friday    DRIVER FAILURE TO OBEY PROPERLY PLACED TRAFFIC CONTROL DEVICE INSTRUCTIONS  MAPLE @ ASPEN                 327\n",
       "                                                                                      LELAND @ 46TH                 245\n",
       "Tuesday   EXCEEDING MAXIMUM SPEED: 39 MPH IN A POSTED 30 MPH ZONE                     10901 WESTLAKE DRIVE          234\n",
       "Sunday    EXCEEDING MAXIMUM SPEED: 39 MPH IN A POSTED 30 MPH ZONE                     10901 WESTLAKE DRIVE          219\n",
       "Saturday  FAILURE TO STOP AT STOP SIGN                                                UNIVERSITY AVE @ OXFORD RD    209\n",
       "dtype: int64"
      ]
     },
     "execution_count": 24,
     "metadata": {},
     "output_type": "execute_result"
    }
   ],
   "source": [
    "traffic[['Day',\"Description\",\"Location\"]].value_counts().head()"
   ]
  },
  {
   "cell_type": "code",
   "execution_count": 25,
   "metadata": {},
   "outputs": [
    {
     "data": {
      "text/plain": [
       "(1773774, 38)"
      ]
     },
     "execution_count": 25,
     "metadata": {},
     "output_type": "execute_result"
    }
   ],
   "source": [
    "traffic.shape"
   ]
  },
  {
   "cell_type": "code",
   "execution_count": 26,
   "metadata": {
    "colab": {
     "base_uri": "https://localhost:8080/"
    },
    "id": "08sDiQk4FEN3",
    "outputId": "b36ab021-aa13-4707-9b15-9f3d4b033e52"
   },
   "outputs": [
    {
     "data": {
      "text/plain": [
       "Latitude   Longitude \n",
       "0.000000    0.000000     123428\n",
       "39.045425  -76.990737       551\n",
       "39.046277  -76.990695       431\n",
       "39.109775  -76.910440       327\n",
       "39.005618  -77.012328       268\n",
       "39.110610  -76.989798       253\n",
       "39.057555  -76.967827       210\n",
       "39.003900  -77.036485       155\n",
       "39.149278  -77.066620       128\n",
       "39.077695  -77.046385       128\n",
       "dtype: int64"
      ]
     },
     "execution_count": 26,
     "metadata": {},
     "output_type": "execute_result"
    }
   ],
   "source": [
    "traffic[[\"Latitude\",\"Longitude\"]].value_counts().head(10)"
   ]
  },
  {
   "cell_type": "code",
   "execution_count": 27,
   "metadata": {
    "colab": {
     "base_uri": "https://localhost:8080/",
     "height": 168
    },
    "id": "ZzdWbU_zFEN3",
    "outputId": "f30495cc-5cca-4606-e777-d004f61770d6"
   },
   "outputs": [
    {
     "data": {
      "text/plain": [
       "Location                            \n",
       "WAYNE AVE @ DALE DR                     2311\n",
       "MONTGOMERY VILLAGE AVE @ RUSSELL AVE    2162\n",
       "IS 370 @ IS 270                         1982\n",
       "W/B IS 370 @ IS 270                     1884\n",
       "WOODFIELD RD @ EMORY GROVE RD           1872\n",
       "RT 28 @ BLACKBERRY DR                   1716\n",
       "COLESVILLE RD @ GEORGIA AVE             1599\n",
       "RIDGE RD @ OBSERVATION DR               1552\n",
       "dtype: int64"
      ]
     },
     "execution_count": 27,
     "metadata": {},
     "output_type": "execute_result"
    }
   ],
   "source": [
    "traffic[[\"Location\"]].value_counts().head(8)"
   ]
  },
  {
   "cell_type": "code",
   "execution_count": 28,
   "metadata": {
    "id": "-3sKk7CsNwiB"
   },
   "outputs": [],
   "source": [
    "month = traffic['month'] = pd.DatetimeIndex(traffic['date_time']).month\n",
    "year = traffic['Year'] \n",
    "year_2010_2020 = traffic['Year'] > 2010"
   ]
  },
  {
   "cell_type": "code",
   "execution_count": 29,
   "metadata": {
    "colab": {
     "base_uri": "https://localhost:8080/",
     "height": 299
    },
    "id": "1sb1OLfrONYE",
    "outputId": "9e59b7d5-72c8-4923-bf01-88d7379fb0bb"
   },
   "outputs": [
    {
     "data": {
      "text/plain": [
       "<AxesSubplot:xlabel='month', ylabel='Count'>"
      ]
     },
     "execution_count": 29,
     "metadata": {},
     "output_type": "execute_result"
    },
    {
     "data": {
      "image/png": "[encoded data removed]",
      "text/plain": [
       "<Figure size 432x288 with 1 Axes>"
      ]
     },
     "metadata": {
      "needs_background": "light"
     },
     "output_type": "display_data"
    }
   ],
   "source": [
    "# plot month traffic violations\n",
    "traffic.count()\n",
    "sns.histplot(traffic['month'], kde=False, bins=31)"
   ]
  },
  {
   "cell_type": "markdown",
   "metadata": {
    "id": "-7SJDw-GFEN4"
   },
   "source": [
    "##### Plot traffic violations by the day of the month"
   ]
  },
  {
   "cell_type": "code",
   "execution_count": 30,
   "metadata": {
    "colab": {
     "base_uri": "https://localhost:8080/"
    },
    "id": "9hNx5LbkFEN4",
    "outputId": "d8427ad7-02d0-44c4-fc71-07950be1c033"
   },
   "outputs": [
    {
     "data": {
      "text/plain": [
       "0    11\n",
       "1    12\n",
       "2    12\n",
       "3    12\n",
       "4    12\n",
       "Name: date_time, dtype: int64"
      ]
     },
     "execution_count": 30,
     "metadata": {},
     "output_type": "execute_result"
    }
   ],
   "source": [
    "day_of_month_violations = traffic['date_time'].dt.day\n",
    "day_of_month_violations.head()"
   ]
  },
  {
   "cell_type": "code",
   "execution_count": 31,
   "metadata": {
    "colab": {
     "base_uri": "https://localhost:8080/",
     "height": 302
    },
    "id": "qucszFDuFEN4",
    "outputId": "be90d3d8-8963-48e1-c761-2b83e7a939db",
    "scrolled": true
   },
   "outputs": [
    {
     "data": {
      "text/plain": [
       "<AxesSubplot:xlabel='date_time', ylabel='Count'>"
      ]
     },
     "execution_count": 31,
     "metadata": {},
     "output_type": "execute_result"
    },
    {
     "data": {
      "image/png": "[encoded data removed]",
      "text/plain": [
       "<Figure size 432x288 with 1 Axes>"
      ]
     },
     "metadata": {
      "needs_background": "light"
     },
     "output_type": "display_data"
    }
   ],
   "source": [
    "# remove na's\n",
    "day_of_month_violations_plot = day_of_month_violations.dropna()\n",
    "# plot the day of the month\n",
    "sns.histplot(day_of_month_violations, kde=False, bins=31)"
   ]
  },
  {
   "cell_type": "markdown",
   "metadata": {
    "id": "WJel4S41FEN4"
   },
   "source": [
    "##### Traffic Violations by year"
   ]
  },
  {
   "cell_type": "code",
   "execution_count": 32,
   "metadata": {
    "colab": {
     "base_uri": "https://localhost:8080/",
     "height": 206
    },
    "id": "eHknZILvFEN4",
    "outputId": "2447d47a-a6cf-4531-efc4-aa8399cc961a"
   },
   "outputs": [
    {
     "data": {
      "text/html": [
       "<div>\n",
       "<style scoped>\n",
       "    .dataframe tbody tr th:only-of-type {\n",
       "        vertical-align: middle;\n",
       "    }\n",
       "\n",
       "    .dataframe tbody tr th {\n",
       "        vertical-align: top;\n",
       "    }\n",
       "\n",
       "    .dataframe thead th {\n",
       "        text-align: right;\n",
       "    }\n",
       "</style>\n",
       "<table border=\"1\" class=\"dataframe\">\n",
       "  <thead>\n",
       "    <tr style=\"text-align: right;\">\n",
       "      <th></th>\n",
       "      <th>violation_year</th>\n",
       "      <th>Race</th>\n",
       "    </tr>\n",
       "  </thead>\n",
       "  <tbody>\n",
       "    <tr>\n",
       "      <th>0</th>\n",
       "      <td>2019</td>\n",
       "      <td>BLACK</td>\n",
       "    </tr>\n",
       "    <tr>\n",
       "      <th>1</th>\n",
       "      <td>2019</td>\n",
       "      <td>WHITE</td>\n",
       "    </tr>\n",
       "    <tr>\n",
       "      <th>2</th>\n",
       "      <td>2019</td>\n",
       "      <td>BLACK</td>\n",
       "    </tr>\n",
       "    <tr>\n",
       "      <th>3</th>\n",
       "      <td>2019</td>\n",
       "      <td>BLACK</td>\n",
       "    </tr>\n",
       "    <tr>\n",
       "      <th>4</th>\n",
       "      <td>2019</td>\n",
       "      <td>BLACK</td>\n",
       "    </tr>\n",
       "  </tbody>\n",
       "</table>\n",
       "</div>"
      ],
      "text/plain": [
       "   violation_year   Race\n",
       "0            2019  BLACK\n",
       "1            2019  WHITE\n",
       "2            2019  BLACK\n",
       "3            2019  BLACK\n",
       "4            2019  BLACK"
      ]
     },
     "execution_count": 32,
     "metadata": {},
     "output_type": "execute_result"
    }
   ],
   "source": [
    "violation_year = traffic['date_time'].dt.year\n",
    "traffic[\"violation_year\"] = traffic['date_time'].dt.year\n",
    "violation_year = traffic[[\"violation_year\",'Race']]\n",
    "violation_year.head()"
   ]
  },
  {
   "cell_type": "code",
   "execution_count": 33,
   "metadata": {},
   "outputs": [
    {
     "data": {
      "text/plain": [
       "2012    151375\n",
       "2013    190519\n",
       "2014    223784\n",
       "2015    235370\n",
       "2016    219758\n",
       "2017    199170\n",
       "2018    218287\n",
       "2019    188600\n",
       "2020     72320\n",
       "2021     63689\n",
       "2022     10902\n",
       "Name: violation_year, dtype: int64"
      ]
     },
     "execution_count": 33,
     "metadata": {},
     "output_type": "execute_result"
    }
   ],
   "source": [
    "violation_year_count= traffic['violation_year'].value_counts().sort_index()\n",
    "violation_year_count"
   ]
  },
  {
   "cell_type": "code",
   "execution_count": 34,
   "metadata": {
    "colab": {
     "base_uri": "https://localhost:8080/",
     "height": 610
    },
    "id": "5ghuGVmGO1X-",
    "outputId": "a7c24c49-ec47-4226-ea81-d59778344d9b"
   },
   "outputs": [
    {
     "data": {
      "text/plain": [
       "<AxesSubplot:ylabel='violation_year'>"
      ]
     },
     "execution_count": 34,
     "metadata": {},
     "output_type": "execute_result"
    },
    {
     "data": {
      "image/png": "[encoded data removed]",
      "text/plain": [
       "<Figure size 1296x864 with 1 Axes>"
      ]
     },
     "metadata": {
      "needs_background": "light"
     },
     "output_type": "display_data"
    }
   ],
   "source": [
    "plt.figure(figsize=(18,12))\n",
    "sns.lineplot(data=violation_year_count, ci=None, color=\"green\", marker='o')"
   ]
  },
  {
   "cell_type": "markdown",
   "metadata": {},
   "source": [
    "##### Plot the number of traffic violations by race"
   ]
  },
  {
   "cell_type": "code",
   "execution_count": 35,
   "metadata": {
    "id": "BWPak72AFEN4"
   },
   "outputs": [],
   "source": [
    "traffic_by_day = traffic['Day'].value_counts()"
   ]
  },
  {
   "cell_type": "code",
   "execution_count": 36,
   "metadata": {
    "colab": {
     "base_uri": "https://localhost:8080/"
    },
    "id": "P0oOIrF1FEN4",
    "outputId": "d42c8c56-2ab9-497c-de3a-e094c4df4b8d"
   },
   "outputs": [
    {
     "data": {
      "text/plain": [
       "Accident  Race           \n",
       "No        WHITE              597359\n",
       "          BLACK              551935\n",
       "          HISPANIC           374477\n",
       "          OTHER              100935\n",
       "          ASIAN               99256\n",
       "Yes       WHITE               16765\n",
       "          HISPANIC            13035\n",
       "          BLACK               11706\n",
       "No        NATIVE AMERICAN      3206\n",
       "Yes       ASIAN                2616\n",
       "          OTHER                2391\n",
       "          NATIVE AMERICAN        93\n",
       "dtype: int64"
      ]
     },
     "execution_count": 36,
     "metadata": {},
     "output_type": "execute_result"
    }
   ],
   "source": [
    "accidents_by_race = traffic[[\"Accident\",\"Race\"]].value_counts()\n",
    "accidents_by_race"
   ]
  },
  {
   "cell_type": "code",
   "execution_count": 37,
   "metadata": {
    "colab": {
     "base_uri": "https://localhost:8080/",
     "height": 624
    },
    "id": "RjMz-iOAfScR",
    "outputId": "56682b92-f309-4752-eb57-115d2a9b3a45"
   },
   "outputs": [
    {
     "data": {
      "text/plain": [
       "<AxesSubplot:xlabel='Race', ylabel='Count'>"
      ]
     },
     "execution_count": 37,
     "metadata": {},
     "output_type": "execute_result"
    },
    {
     "data": {
      "image/png": "[encoded data removed]",
      "text/plain": [
       "<Figure size 1080x720 with 1 Axes>"
      ]
     },
     "metadata": {
      "needs_background": "light"
     },
     "output_type": "display_data"
    }
   ],
   "source": [
    " plt.figure(figsize=(15,10))\n",
    " sns.histplot(traffic, x = \"Race\", hue='Race', kde=False, bins=50)"
   ]
  },
  {
   "cell_type": "code",
   "execution_count": 38,
   "metadata": {
    "id": "2RAqSgzVFEN4"
   },
   "outputs": [],
   "source": [
    "race = traffic['Race']\n",
    "accidents = traffic['Accident']"
   ]
  },
  {
   "cell_type": "markdown",
   "metadata": {},
   "source": [
    "##### Calculate and plot the percentage of accidents"
   ]
  },
  {
   "cell_type": "code",
   "execution_count": 39,
   "metadata": {
    "colab": {
     "base_uri": "https://localhost:8080/"
    },
    "id": "KZ9Jn7J8FEN4",
    "outputId": "4ee00ff8-c36f-4122-9803-bd6105dbd380",
    "scrolled": false
   },
   "outputs": [
    {
     "data": {
      "text/plain": [
       "No     1727168\n",
       "Yes      46606\n",
       "Name: Accident, dtype: int64"
      ]
     },
     "execution_count": 39,
     "metadata": {},
     "output_type": "execute_result"
    }
   ],
   "source": [
    "accidents = traffic[\"Accident\"]\n",
    "accidents.value_counts()"
   ]
  },
  {
   "cell_type": "code",
   "execution_count": 40,
   "metadata": {
    "scrolled": true
   },
   "outputs": [
    {
     "data": {
      "text/plain": [
       "Accident  Date Of Stop\n",
       "No        03/17/2015      1270\n",
       "          04/10/2018      1251\n",
       "          05/20/2014      1193\n",
       "          03/05/2019      1176\n",
       "          04/18/2018      1175\n",
       "                          ... \n",
       "Yes       08/05/2020         1\n",
       "          02/23/2022         1\n",
       "          08/18/2021         1\n",
       "          07/29/2020         1\n",
       "          05/19/2021         1\n",
       "Length: 7346, dtype: int64"
      ]
     },
     "execution_count": 40,
     "metadata": {},
     "output_type": "execute_result"
    }
   ],
   "source": [
    "traffic[[\"Accident\",'Date Of Stop']].value_counts()"
   ]
  },
  {
   "cell_type": "code",
   "execution_count": 41,
   "metadata": {},
   "outputs": [
    {
     "data": {
      "text/plain": [
       "Accident  Alcohol\n",
       "No        No         1724898\n",
       "Yes       No           46432\n",
       "No        Yes           2270\n",
       "Yes       Yes            174\n",
       "dtype: int64"
      ]
     },
     "execution_count": 41,
     "metadata": {},
     "output_type": "execute_result"
    }
   ],
   "source": [
    "traffic[[\"Accident\",'Alcohol']].value_counts()"
   ]
  },
  {
   "cell_type": "code",
   "execution_count": 42,
   "metadata": {
    "scrolled": true
   },
   "outputs": [
    {
     "data": {
      "text/plain": [
       "Accident  Location                        Date Of Stop\n",
       "Yes       3400 MAY ST                     02/01/2015      40\n",
       "          NEW HAMPSHIRE AVE @ OAKLAWN DR  01/06/2020      38\n",
       "          CLARA BARTON PKWY               03/06/2019      32\n",
       "dtype: int64"
      ]
     },
     "execution_count": 42,
     "metadata": {},
     "output_type": "execute_result"
    }
   ],
   "source": [
    "traffic_with_accidents = traffic.loc[traffic[\"Accident\"] == \"Yes\"]\n",
    "traffic_with_accidents[['Accident','Location','Date Of Stop']].value_counts().head(3)"
   ]
  },
  {
   "cell_type": "code",
   "execution_count": 43,
   "metadata": {
    "colab": {
     "base_uri": "https://localhost:8080/"
    },
    "id": "9UlKdfkpFEN4",
    "outputId": "cee6be08-6ab2-42f4-af2f-7e035041269d"
   },
   "outputs": [
    {
     "data": {
      "text/plain": [
       "No     97.372495\n",
       "Yes     2.627505\n",
       "Name: Accident, dtype: float64"
      ]
     },
     "execution_count": 43,
     "metadata": {},
     "output_type": "execute_result"
    }
   ],
   "source": [
    "accident_counts = accidents.value_counts(normalize = True)*100\n",
    "accident_counts"
   ]
  },
  {
   "cell_type": "code",
   "execution_count": 44,
   "metadata": {},
   "outputs": [
    {
     "data": {
      "text/plain": [
       "<matplotlib.legend.Legend at 0x7f85b904a850>"
      ]
     },
     "execution_count": 44,
     "metadata": {},
     "output_type": "execute_result"
    },
    {
     "data": {
      "image/png": "[encoded data removed]",
      "text/plain": [
       "<Figure size 360x360 with 1 Axes>"
      ]
     },
     "metadata": {},
     "output_type": "display_data"
    }
   ],
   "source": [
    "accident_pie_plot = accident_counts.plot.pie( y='accidents',figsize=(5, 5))\n",
    "plt.legend()"
   ]
  },
  {
   "cell_type": "code",
   "execution_count": 45,
   "metadata": {
    "id": "FI7889S_FEN5"
   },
   "outputs": [],
   "source": [
    "# Gtt most violations by Location \n",
    "# Get years of violations \n",
    "# Get violations by \"DRIVER FAILURE TO OBEY PROPERLY PLACED TRAFFIC CONTROL DEVICE INSTRUCTIONS\"\n",
    "# Get most violations by day of week"
   ]
  },
  {
   "cell_type": "code",
   "execution_count": 46,
   "metadata": {},
   "outputs": [
    {
     "data": {
      "text/plain": [
       "Alcohol  Location                            \n",
       "Yes      RIDGE RD AND BETHESDA CHURCH RD         77\n",
       "         WOODFIELD ROAD AND FIELDCREST ROAD      57\n",
       "         RIDGE ROAD AND BRINK ROAD               55\n",
       "         RIDGE ROAD AND SKYLARK ROAD             49\n",
       "         RIDGE ROAD AND BETHESDA CHURCH ROAD     43\n",
       "                                                 ..\n",
       "         TECH ROAD/ INDUSTRIAL RD                 1\n",
       "         GEORGIA  AVE / RANDOLPH RD               1\n",
       "         UNIVERSITY BLVD @ COLESVILLE RD          1\n",
       "         ARLINGTON RD @ ELM ST                    1\n",
       "         LITTLE SENECA PARKWAY / GRAYSQUIRREL     1\n",
       "Length: 304, dtype: int64"
      ]
     },
     "execution_count": 46,
     "metadata": {},
     "output_type": "execute_result"
    }
   ],
   "source": [
    "traffic_n_sip = traffic.loc[traffic[\"Alcohol\"] == \"Yes\"]\n",
    "traffic_n_sip[['Alcohol','Location']].value_counts()"
   ]
  },
  {
   "cell_type": "code",
   "execution_count": 47,
   "metadata": {},
   "outputs": [
    {
     "data": {
      "text/plain": [
       "Alcohol  Day        Location                           \n",
       "Yes      Monday     RIDGE ROAD AND BRINK ROAD              29\n",
       "         Wednesday  RIDGE ROAD AND SKYLARK ROAD            28\n",
       "         Saturday   VEIRS MILL RD @ NEWPORT MILL RD        26\n",
       "         Sunday     WHITES FERRY RD/WASCHE RD              25\n",
       "         Thursday   WOODFIELD ROAD AND FIELDCREST ROAD     23\n",
       "                                                           ..\n",
       "         Sunday     SB NEW HAMPSHIRE AVE @ SCHINDLER DR     1\n",
       "         Tuesday    ROCKVILLE PIKE @ ELMSHIRST RD           1\n",
       "         Saturday   TECH ROAD/ INDUSTRIAL RD                1\n",
       "         Friday     11030 BRINK RD                          1\n",
       "         Wednesday  GEORGIA  AVE / RANDOLPH RD              1\n",
       "Length: 348, dtype: int64"
      ]
     },
     "execution_count": 47,
     "metadata": {},
     "output_type": "execute_result"
    }
   ],
   "source": [
    "traffic_n_sip[['Alcohol','Day','Location']].value_counts()"
   ]
  },
  {
   "cell_type": "code",
   "execution_count": 48,
   "metadata": {
    "scrolled": true
   },
   "outputs": [
    {
     "data": {
      "text/plain": [
       "Alcohol  Location                         Day      \n",
       "Yes      RIDGE ROAD AND BRINK ROAD        Monday       29\n",
       "         RIDGE ROAD AND SKYLARK ROAD      Wednesday    28\n",
       "         VEIRS MILL RD @ NEWPORT MILL RD  Saturday     26\n",
       "         WHITES FERRY RD/WASCHE RD        Sunday       25\n",
       "         RIDGE RD AND BETHESDA CHURCH RD  Tuesday      23\n",
       "                                                       ..\n",
       "         GEORGIA  AVE / RANDOLPH RD       Wednesday     1\n",
       "         GARLAND AVE AND DOMER AVE        Thursday      1\n",
       "         355 AND ELM ST                   Saturday      1\n",
       "         NB GEORGIA @ TILTON DR           Thursday      1\n",
       "         SHADY GROVE RD @ MD 355          Wednesday     1\n",
       "Length: 348, dtype: int64"
      ]
     },
     "execution_count": 48,
     "metadata": {},
     "output_type": "execute_result"
    }
   ],
   "source": [
    "traffic_n_sip[['Alcohol','Location','Day']].value_counts()"
   ]
  },
  {
   "cell_type": "code",
   "execution_count": 49,
   "metadata": {
    "scrolled": true
   },
   "outputs": [
    {
     "data": {
      "text/plain": [
       "Alcohol  Location                            \n",
       "Yes      RIDGE RD AND BETHESDA CHURCH RD         77\n",
       "         WOODFIELD ROAD AND FIELDCREST ROAD      57\n",
       "         RIDGE ROAD AND BRINK ROAD               55\n",
       "         RIDGE ROAD AND SKYLARK ROAD             49\n",
       "         RIDGE ROAD AND BETHESDA CHURCH ROAD     43\n",
       "                                                 ..\n",
       "         TECH ROAD/ INDUSTRIAL RD                 1\n",
       "         GEORGIA  AVE / RANDOLPH RD               1\n",
       "         UNIVERSITY BLVD @ COLESVILLE RD          1\n",
       "         ARLINGTON RD @ ELM ST                    1\n",
       "         LITTLE SENECA PARKWAY / GRAYSQUIRREL     1\n",
       "Length: 304, dtype: int64"
      ]
     },
     "execution_count": 49,
     "metadata": {},
     "output_type": "execute_result"
    }
   ],
   "source": [
    "traffic_n_sip[['Alcohol','Location']].value_counts()"
   ]
  },
  {
   "cell_type": "markdown",
   "metadata": {},
   "source": [
    "#### Calculate the percentage of the drinking traffic violations"
   ]
  },
  {
   "cell_type": "code",
   "execution_count": 50,
   "metadata": {},
   "outputs": [
    {
     "data": {
      "text/plain": [
       "No     1771330\n",
       "Yes       2444\n",
       "Name: Alcohol, dtype: int64"
      ]
     },
     "execution_count": 50,
     "metadata": {},
     "output_type": "execute_result"
    }
   ],
   "source": [
    "drinking_traffic = traffic['Alcohol']\n",
    "drinking_traffic.value_counts()"
   ]
  },
  {
   "cell_type": "code",
   "execution_count": 51,
   "metadata": {},
   "outputs": [
    {
     "data": {
      "text/plain": [
       "No     99.862215\n",
       "Yes     0.137785\n",
       "Name: Alcohol, dtype: float64"
      ]
     },
     "execution_count": 51,
     "metadata": {},
     "output_type": "execute_result"
    }
   ],
   "source": [
    "drinking_percent = drinking_traffic.value_counts(normalize = True)*100\n",
    "drinking_percent "
   ]
  },
  {
   "cell_type": "code",
   "execution_count": 52,
   "metadata": {
    "colab": {
     "base_uri": "https://localhost:8080/"
    },
    "id": "mzPxA5H-W12B",
    "outputId": "9b2b0f6d-c4d7-4f98-a5de-b629c774fe2b"
   },
   "outputs": [
    {
     "name": "stdout",
     "output_type": "stream",
     "text": [
      "0.04322844962210518\n"
     ]
    }
   ],
   "source": [
    "missing_values_count = traffic.isnull().sum()\n",
    "\n",
    "total_cells = np.product(traffic.shape)\n",
    "total_missing = missing_values_count.sum()\n",
    "\n",
    "# percent of data that is missing\n",
    "\n",
    "percent_missing = (total_missing/total_cells) * 100\n",
    "print(percent_missing)"
   ]
  },
  {
   "cell_type": "markdown",
   "metadata": {},
   "source": [
    " ##### Remove the columns and rows that aren't needed"
   ]
  },
  {
   "cell_type": "code",
   "execution_count": 53,
   "metadata": {},
   "outputs": [
    {
     "data": {
      "text/plain": [
       "SeqID                          0\n",
       "Date Of Stop                   0\n",
       "Time Of Stop                   0\n",
       "Agency                         0\n",
       "SubAgency                      0\n",
       "Description                   10\n",
       "Location                       2\n",
       "Latitude                       0\n",
       "Longitude                      0\n",
       "Accident                       0\n",
       "Belts                          0\n",
       "Personal Injury                0\n",
       "Property Damage                0\n",
       "Fatal                          0\n",
       "Commercial License             0\n",
       "HAZMAT                         0\n",
       "Commercial Vehicle             0\n",
       "Alcohol                        0\n",
       "Work Zone                      0\n",
       "State                         59\n",
       "VehicleType                    0\n",
       "Year                       10217\n",
       "Make                          66\n",
       "Color                      20317\n",
       "Violation Type                 0\n",
       "Charge                         0\n",
       "Contributed To Accident        0\n",
       "Race                           0\n",
       "Gender                         0\n",
       "Arrest Type                    0\n",
       "Geolocation                    0\n",
       "date_time                      0\n",
       "date                           0\n",
       "Time                           0\n",
       "Day                            0\n",
       "Month                          0\n",
       "day_of_week                    0\n",
       "year                           0\n",
       "month                          0\n",
       "violation_year                 0\n",
       "dtype: int64"
      ]
     },
     "execution_count": 53,
     "metadata": {},
     "output_type": "execute_result"
    }
   ],
   "source": [
    "missing_values_count[:]"
   ]
  },
  {
   "cell_type": "code",
   "execution_count": 54,
   "metadata": {},
   "outputs": [],
   "source": [
    "traffic = traffic.dropna()"
   ]
  },
  {
   "cell_type": "code",
   "execution_count": 55,
   "metadata": {
    "colab": {
     "base_uri": "https://localhost:8080/"
    },
    "id": "aHcI7tnHSil5",
    "outputId": "1e933eff-425d-43cd-846f-9068c897e36e"
   },
   "outputs": [
    {
     "data": {
      "text/plain": [
       "Location                              Latitude   Longitude \n",
       "URBANA DR / RT 97                     0.000000    0.000000     531\n",
       "PLYERS MILL RD AT LEXINGTON ST        0.000000    0.000000     239\n",
       "MONTGOMERY VILLAGE AVE @ RUSSELL AVE  0.000000    0.000000     191\n",
       "NEW HAMPSHIRE AVE / ROSEMERE AVE      0.000000    0.000000     170\n",
       "WAYNE @ MANSFIELD                     0.000000    0.000000     152\n",
       "                                                              ... \n",
       "GERMANTOWN/ DAWSON FARM               39.171803  -77.277847      1\n",
       "                                      39.175342  -77.271320      1\n",
       "GERMANTOWN/ FATHER HURLEY             39.167268  -77.280588      1\n",
       "                                      39.167502  -77.281465      1\n",
       "�MIDDLEBROOK RD AT GERMANTOWN RD      39.179383  -77.266055      1\n",
       "Length: 902430, dtype: int64"
      ]
     },
     "execution_count": 55,
     "metadata": {},
     "output_type": "execute_result"
    }
   ],
   "source": [
    "loc_data = traffic[['Location',\"Latitude\",\"Longitude\"]]\n",
    "loc_data.value_counts()"
   ]
  },
  {
   "cell_type": "markdown",
   "metadata": {},
   "source": [
    "#### Notice how some of the Latitude and Longtitude locations are missing as we analyze and plot the Locations (the missing Latitude and Longtitude locations report as 0.0)"
   ]
  },
  {
   "cell_type": "code",
   "execution_count": 56,
   "metadata": {
    "colab": {
     "base_uri": "https://localhost:8080/",
     "height": 206
    },
    "id": "VBYDgzG0mozo",
    "outputId": "3247d901-586c-49fe-bd84-a901e9d9381b"
   },
   "outputs": [
    {
     "data": {
      "text/html": [
       "<div>\n",
       "<style scoped>\n",
       "    .dataframe tbody tr th:only-of-type {\n",
       "        vertical-align: middle;\n",
       "    }\n",
       "\n",
       "    .dataframe tbody tr th {\n",
       "        vertical-align: top;\n",
       "    }\n",
       "\n",
       "    .dataframe thead th {\n",
       "        text-align: right;\n",
       "    }\n",
       "</style>\n",
       "<table border=\"1\" class=\"dataframe\">\n",
       "  <thead>\n",
       "    <tr style=\"text-align: right;\">\n",
       "      <th></th>\n",
       "      <th>Latitude</th>\n",
       "      <th>Longitude</th>\n",
       "      <th>Location</th>\n",
       "    </tr>\n",
       "  </thead>\n",
       "  <tbody>\n",
       "    <tr>\n",
       "      <th>0</th>\n",
       "      <td>38.989743</td>\n",
       "      <td>-77.097770</td>\n",
       "      <td>CORDELL ST @ NORFOLK AVE.</td>\n",
       "    </tr>\n",
       "    <tr>\n",
       "      <th>1</th>\n",
       "      <td>39.174110</td>\n",
       "      <td>-77.246170</td>\n",
       "      <td>NBI270 AT MIDDLEBROOK RD</td>\n",
       "    </tr>\n",
       "    <tr>\n",
       "      <th>2</th>\n",
       "      <td>39.182015</td>\n",
       "      <td>-77.238221</td>\n",
       "      <td>MIDDLEBROOK AN 355</td>\n",
       "    </tr>\n",
       "    <tr>\n",
       "      <th>3</th>\n",
       "      <td>39.160508</td>\n",
       "      <td>-77.284023</td>\n",
       "      <td>GERMANTOWN RD AND ALE HOUSE</td>\n",
       "    </tr>\n",
       "    <tr>\n",
       "      <th>4</th>\n",
       "      <td>38.984247</td>\n",
       "      <td>-77.090548</td>\n",
       "      <td>EASTWEST/ 355</td>\n",
       "    </tr>\n",
       "  </tbody>\n",
       "</table>\n",
       "</div>"
      ],
      "text/plain": [
       "    Latitude  Longitude                     Location\n",
       "0  38.989743 -77.097770    CORDELL ST @ NORFOLK AVE.\n",
       "1  39.174110 -77.246170     NBI270 AT MIDDLEBROOK RD\n",
       "2  39.182015 -77.238221           MIDDLEBROOK AN 355\n",
       "3  39.160508 -77.284023  GERMANTOWN RD AND ALE HOUSE\n",
       "4  38.984247 -77.090548                EASTWEST/ 355"
      ]
     },
     "execution_count": 56,
     "metadata": {},
     "output_type": "execute_result"
    }
   ],
   "source": [
    "traffic_locations = traffic[[\"Latitude\", \"Longitude\", \"Location\"]]\n",
    "traffic_locations.head()"
   ]
  },
  {
   "cell_type": "markdown",
   "metadata": {},
   "source": [
    " #### Plot a map wit markers"
   ]
  },
  {
   "cell_type": "code",
   "execution_count": 57,
   "metadata": {},
   "outputs": [
    {
     "data": {
      "text/plain": [
       "Location                                  Latitude   Longitude \n",
       "RIDGE ROAD AND BRINK ROAD                 0.000000    0.000000     27\n",
       "VEIRS MILL RD @ NEWPORT MILL RD           0.000000    0.000000     26\n",
       "WHITES FERRY RD/WASCHE RD                 39.146036  -77.411927    25\n",
       "NEW HAMPSHIRE AVE @ NORWOOD RD            39.062942  -77.054518    22\n",
       "GEORGIA AVE / ROSSMOOR BLVD               39.061125  -77.044087    18\n",
       "                                                                   ..\n",
       "VEIRS MILL RD @ NEWPORT MILL RD (PURSUIT  0.000000    0.000000      1\n",
       "NB GEORGIA @ TILTON DR                    39.018432  -77.043457     1\n",
       "NB GREAT SENECA AT MUDDY BRANCH           0.000000    0.000000      1\n",
       "BROADBIRCH DR/ BOURNEFIELD WAY            39.055994  -76.965927     1\n",
       "OL 495 @ CONN. AVE                        39.101552  -77.002350     1\n",
       "Length: 381, dtype: int64"
      ]
     },
     "execution_count": 57,
     "metadata": {},
     "output_type": "execute_result"
    }
   ],
   "source": [
    "traffic_n_sip[['Location','Latitude','Longitude']].value_counts()"
   ]
  },
  {
   "cell_type": "markdown",
   "metadata": {},
   "source": [
    "##### Using List Comprehension create a heatmap of the DUI Violations"
   ]
  },
  {
   "cell_type": "code",
   "execution_count": 58,
   "metadata": {},
   "outputs": [
    {
     "data": {
      "text/html": [
       "<div style=\"width:100%;\"><div style=\"position:relative;width:100%;height:0;padding-bottom:60%;\"><span style=\"color:#565656\">Make this Notebook Trusted to load map: File -> Trust Notebook</span><iframe srcdoc=\"&lt;!DOCTYPE html&gt;\n",
       "&lt;head&gt;    \n",
       "    &lt;meta http-equiv=&quot;content-type&quot; content=&quot;text/html; charset=UTF-8&quot; /&gt;\n",
       "    \n",
       "        &lt;script&gt;\n",
       "            L_NO_TOUCH = false;\n",
       "            L_DISABLE_3D = false;\n",
       "        &lt;/script&gt;\n",
       "    \n",
       "    &lt;style&gt;html, body {width: 100%;height: 100%;margin: 0;padding: 0;}&lt;/style&gt;\n",
       "    &lt;style&gt;#map {position:absolute;top:0;bottom:0;right:0;left:0;}&lt;/style&gt;\n",
       "    &lt;script src=&quot;https://cdn.jsdelivr.net/npm/leaflet@1.6.0/dist/leaflet.js&quot;&gt;&lt;/script&gt;\n",
       "    &lt;script src=&quot;https://code.jquery.com/jquery-1.12.4.min.js&quot;&gt;&lt;/script&gt;\n",
       "    &lt;script src=&quot;https://maxcdn.bootstrapcdn.com/bootstrap/3.2.0/js/bootstrap.min.js&quot;&gt;&lt;/script&gt;\n",
       "    &lt;script src=&quot;https://cdnjs.cloudflare.com/ajax/libs/Leaflet.awesome-markers/2.0.2/leaflet.awesome-markers.js&quot;&gt;&lt;/script&gt;\n",
       "    &lt;link rel=&quot;stylesheet&quot; href=&quot;https://cdn.jsdelivr.net/npm/leaflet@1.6.0/dist/leaflet.css&quot;/&gt;\n",
       "    &lt;link rel=&quot;stylesheet&quot; href=&quot;https://maxcdn.bootstrapcdn.com/bootstrap/3.2.0/css/bootstrap.min.css&quot;/&gt;\n",
       "    &lt;link rel=&quot;stylesheet&quot; href=&quot;https://maxcdn.bootstrapcdn.com/bootstrap/3.2.0/css/bootstrap-theme.min.css&quot;/&gt;\n",
       "    &lt;link rel=&quot;stylesheet&quot; href=&quot;https://maxcdn.bootstrapcdn.com/font-awesome/4.6.3/css/font-awesome.min.css&quot;/&gt;\n",
       "    &lt;link rel=&quot;stylesheet&quot; href=&quot;https://cdnjs.cloudflare.com/ajax/libs/Leaflet.awesome-markers/2.0.2/leaflet.awesome-markers.css&quot;/&gt;\n",
       "    &lt;link rel=&quot;stylesheet&quot; href=&quot;https://cdn.jsdelivr.net/gh/python-visualization/folium/folium/templates/leaflet.awesome.rotate.min.css&quot;/&gt;\n",
       "    \n",
       "            &lt;meta name=&quot;viewport&quot; content=&quot;width=device-width,\n",
       "                initial-scale=1.0, maximum-scale=1.0, user-scalable=no&quot; /&gt;\n",
       "            &lt;style&gt;\n",
       "                #map_f6fa2cbab96608580e39953b5e5c8a78 {\n",
       "                    position: relative;\n",
       "                    width: 100.0%;\n",
       "                    height: 100.0%;\n",
       "                    left: 0.0%;\n",
       "                    top: 0.0%;\n",
       "                }\n",
       "            &lt;/style&gt;\n",
       "        \n",
       "    &lt;script src=&quot;https://cdn.jsdelivr.net/gh/python-visualization/folium@master/folium/templates/leaflet_heat.min.js&quot;&gt;&lt;/script&gt;\n",
       "&lt;/head&gt;\n",
       "&lt;body&gt;    \n",
       "    \n",
       "            &lt;div class=&quot;folium-map&quot; id=&quot;map_f6fa2cbab96608580e39953b5e5c8a78&quot; &gt;&lt;/div&gt;\n",
       "        \n",
       "&lt;/body&gt;\n",
       "&lt;script&gt;    \n",
       "    \n",
       "            var map_f6fa2cbab96608580e39953b5e5c8a78 = L.map(\n",
       "                &quot;map_f6fa2cbab96608580e39953b5e5c8a78&quot;,\n",
       "                {\n",
       "                    center: [39.146036, -77.411927],\n",
       "                    crs: L.CRS.EPSG3857,\n",
       "                    zoom: 10,\n",
       "                    zoomControl: true,\n",
       "                    preferCanvas: false,\n",
       "                }\n",
       "            );\n",
       "\n",
       "            \n",
       "\n",
       "        \n",
       "    \n",
       "            var tile_layer_7a8ff03199df5df28e73ed7daec8b91a = L.tileLayer(\n",
       "                &quot;https://stamen-tiles-{s}.a.ssl.fastly.net/toner/{z}/{x}/{y}.png&quot;,\n",
       "                {&quot;attribution&quot;: &quot;Map tiles by \\u003ca href=\\&quot;http://stamen.com\\&quot;\\u003eStamen Design\\u003c/a\\u003e, under \\u003ca href=\\&quot;http://creativecommons.org/licenses/by/3.0\\&quot;\\u003eCC BY 3.0\\u003c/a\\u003e. Data by \\u0026copy; \\u003ca href=\\&quot;http://openstreetmap.org\\&quot;\\u003eOpenStreetMap\\u003c/a\\u003e, under \\u003ca href=\\&quot;http://www.openstreetmap.org/copyright\\&quot;\\u003eODbL\\u003c/a\\u003e.&quot;, &quot;detectRetina&quot;: false, &quot;maxNativeZoom&quot;: 18, &quot;maxZoom&quot;: 18, &quot;minZoom&quot;: 0, &quot;noWrap&quot;: false, &quot;opacity&quot;: 1, &quot;subdomains&quot;: &quot;abc&quot;, &quot;tms&quot;: false}\n",
       "            ).addTo(map_f6fa2cbab96608580e39953b5e5c8a78);\n",
       "        \n",
       "    \n",
       "            var heat_map_709ea5d63b273d43ae253f3a51063f84 = L.heatLayer(\n",
       "                [[39.15222, -77.2369], [39.15222, -77.2369], [39.15222, -77.2369], [39.15222, -77.2369], [39.15222, -77.2369], [39.15222, -77.2369], [39.15222, -77.2369], [39.15222, -77.2369], [39.15222, -77.2369], [39.149605, -77.2340633333333], [39.149605, -77.2340633333333], [39.149605, -77.2340633333333], [39.149605, -77.2340633333333], [39.149605, -77.2340633333333], [39.149605, -77.2340633333333], [39.149605, -77.2340633333333], [39.149605, -77.2340633333333], [39.149605, -77.2340633333333], [39.149605, -77.2340633333333], [39.149605, -77.2340633333333], [39.149605, -77.2340633333333], [39.149605, -77.2340633333333], [39.0559938333333, -76.9659266666667], [0.0, 0.0], [0.0, 0.0], [0.0, 0.0], [0.0, 0.0], [0.0, 0.0], [0.0, 0.0], [0.0, 0.0], [0.0, 0.0], [0.0, 0.0], [0.0, 0.0], [0.0, 0.0], [0.0, 0.0], [0.0, 0.0], [0.0, 0.0], [0.0, 0.0], [0.0, 0.0], [0.0, 0.0], [0.0, 0.0], [0.0, 0.0], [0.0, 0.0], [0.0, 0.0], [39.07115, -77.0484466666667], [39.07115, -77.0484466666667], [39.1760711666667, -77.2368573333333], [39.1760711666667, -77.2368573333333], [39.1760711666667, -77.2368573333333], [39.1760711666667, -77.2368573333333], [39.2074033333333, -77.22816], [39.1063711333333, -77.2330166], [39.1063711333333, -77.2330166], [39.1063711333333, -77.2330166], [38.9918505666667, -77.02655545], [39.1063711333333, -77.2330166], [38.9918505666667, -77.02655545], [39.1063711333333, -77.2330166], [38.9918505666667, -77.02655545], [38.9918505666667, -77.02655545], [39.1063711333333, -77.2330166], [38.9918505666667, -77.02655545], [39.1845, -77.26302], [39.1063711333333, -77.2330166], [39.1063711333333, -77.2330166], [0.0, 0.0], [39.0844167666667, -77.0799335666667], [0.0, 0.0], [39.0844167666667, -77.0799335666667], [0.0, 0.0], [39.0844167666667, -77.0799335666667], [38.9820439, -77.0988726666667], [0.0, 0.0], [0.0, 0.0], [0.0, 0.0], [39.0400459666667, -76.9864967833333], [39.0400459666667, -76.9864967833333], [0.0, 0.0], [0.0, 0.0], [0.0, 0.0], [0.0, 0.0], [0.0, 0.0], [0.0, 0.0], [39.0132233333333, -77.0986366666667], [39.098595, -77.1977133333333], [39.057325, -77.0477216666667], [39.098595, -77.1977133333333], [39.057325, -77.0477216666667], [39.098595, -77.1977133333333], [39.098595, -77.1977133333333], [39.057325, -77.0477216666667], [39.057325, -77.0477216666667], [39.057325, -77.0477216666667], [39.057325, -77.0477216666667], [39.098595, -77.1977133333333], [39.098595, -77.1977133333333], [39.057325, -77.0477216666667], [39.057325, -77.0477216666667], [39.098595, -77.1977133333333], [39.098595, -77.1977133333333], [39.06567785, -77.15967905], [39.06567785, -77.15967905], [39.06567785, -77.15967905], [39.06567785, -77.15967905], [39.06567785, -77.15967905], [39.06567785, -77.15967905], [39.06567785, -77.15967905], [39.06567785, -77.15967905], [39.06567785, -77.15967905], [39.0844167666667, -77.0799335666667], [39.1664027333333, -77.1809625666667], [39.0844167666667, -77.0799335666667], [39.06567785, -77.15967905], [39.0194230333333, -77.0106003666667], [39.06567785, -77.15967905], [39.06567785, -77.15967905], [39.1498103, -77.2339134166667], [39.1498103, -77.2339134166667], [39.1498103, -77.2339134166667], [39.1498103, -77.2339134166667], [39.1498103, -77.2339134166667], [39.1498103, -77.2339134166667], [39.149835, -77.21538], [38.9841116666667, -77.0945383333333], [38.9841116666667, -77.0945383333333], [38.9841116666667, -77.0945383333333], [39.0613321166667, -76.9586067166667], [39.149835, -77.21538], [38.9841116666667, -77.0945383333333], [39.0613321166667, -76.9586067166667], [39.149835, -77.21538], [39.06807395, -77.16173825], [39.06807395, -77.16173825], [39.149835, -77.21538], [39.06807395, -77.16173825], [39.06807395, -77.16173825], [39.06807395, -77.16173825], [39.06807395, -77.16173825], [39.0767083333333, -77.1682616666667], [39.06807395, -77.16173825], [39.0767083333333, -77.1682616666667], [39.149835, -77.21538], [39.0629416666667, -77.0545183333333], [39.0629416666667, -77.0545183333333], [39.0629416666667, -77.0545183333333], [39.0629416666667, -77.0545183333333], [39.0629416666667, -77.0545183333333], [39.08134535, -77.2368286833333], [39.08134535, -77.2368286833333], [39.0629416666667, -77.0545183333333], [39.0629416666667, -77.0545183333333], [39.0629416666667, -77.0545183333333], [39.0629416666667, -77.0545183333333], [39.08134535, -77.2368286833333], [39.08134535, -77.2368286833333], [39.08134535, -77.2368286833333], [39.08134535, -77.2368286833333], [39.08134535, -77.2368286833333], [39.08134535, -77.2368286833333], [39.0629416666667, -77.0545183333333], [39.08134535, -77.2368286833333], [39.08134535, -77.2368286833333], [39.08134535, -77.2368286833333], [39.08134535, -77.2368286833333], [39.08134535, -77.2368286833333], [39.08134535, -77.2368286833333], [39.08134535, -77.2368286833333], [39.07082235, -77.1625600666667], [39.07082235, -77.1625600666667], [39.0184316666667, -77.0434566666667], [39.13146, -77.1638683333333], [39.13146, -77.1638683333333], [39.07082235, -77.1625600666667], [39.13146, -77.1638683333333], [39.13146, -77.1638683333333], [39.13146, -77.1638683333333], [39.13146, -77.1638683333333], [39.22579, -77.2563183333333], [39.07082235, -77.1625600666667], [39.07082235, -77.1625600666667], [39.07082235, -77.1625600666667], [39.07082235, -77.1625600666667], [39.13146, -77.1638683333333], [39.13146, -77.1638683333333], [39.13146, -77.1638683333333], [39.13146, -77.1638683333333], [39.07082235, -77.1625600666667], [39.07082235, -77.1625600666667], [39.07082235, -77.1625600666667], [0.0, 0.0], [39.0629416666667, -77.0545183333333], [0.0, 0.0], [0.0, 0.0], [0.0, 0.0], [0.0, 0.0], [39.1550866833333, -77.25891615], [0.0, 0.0], [39.1550866833333, -77.25891615], [39.1550866833333, -77.25891615], [0.0, 0.0], [0.0, 0.0], [0.0, 0.0], [0.0, 0.0], [39.0309766666667, -77.12584], [39.1550866833333, -77.25891615], [39.1550866833333, -77.25891615], [39.1484045, -77.1668651666667], [39.1484045, -77.1668651666667], [39.0309766666667, -77.12584], [0.0, 0.0], [0.0, 0.0], [39.0309766666667, -77.12584], [39.1484045, -77.1668651666667], [0.0, 0.0], [0.0, 0.0], [0.0, 0.0], [39.0309766666667, -77.12584], [0.0, 0.0], [39.0309766666667, -77.12584], [0.0, 0.0], [0.0, 0.0], [39.1484045, -77.1668651666667], [0.0, 0.0], [0.0, 0.0], [0.0, 0.0], [0.0, 0.0], [39.0309766666667, -77.12584], [0.0, 0.0], [0.0, 0.0], [39.0309766666667, -77.12584], [39.128075, -77.1731916666667], [0.0, 0.0], [0.0, 0.0], [0.0, 0.0], [39.0309766666667, -77.12584], [0.0, 0.0], [0.0, 0.0], [0.0, 0.0], [0.0, 0.0], [0.0, 0.0], [0.0, 0.0], [39.1484045, -77.1668651666667], [0.0, 0.0], [39.128075, -77.1731916666667], [0.0, 0.0], [0.0, 0.0], [39.1421431833333, -77.2197781], [39.128075, -77.1731916666667], [39.1421431833333, -77.2197781], [39.1620773333333, -77.2809222666667], [39.1750567166667, -77.2719779166667], [39.1620773333333, -77.2809222666667], [39.1620773333333, -77.2809222666667], [39.2214628166667, -77.2642160833333], [39.2214628166667, -77.2642160833333], [39.1750567166667, -77.2719779166667], [39.0629416666667, -77.0545183333333], [39.1421431833333, -77.2197781], [39.1750567166667, -77.2719779166667], [39.1750567166667, -77.2719779166667], [39.2214628166667, -77.2642160833333], [39.1620773333333, -77.2809222666667], [39.1620773333333, -77.2809222666667], [39.1421431833333, -77.2197781], [39.1421431833333, -77.2197781], [39.1620773333333, -77.2809222666667], [39.1620773333333, -77.2809222666667], [39.1750567166667, -77.2719779166667], [39.1421431833333, -77.2197781], [39.1750567166667, -77.2719779166667], [39.1750567166667, -77.2719779166667], [39.128075, -77.1731916666667], [39.1421431833333, -77.2197781], [39.1620773333333, -77.2809222666667], [0.0, 0.0], [0.0, 0.0], [0.0, 0.0], [39.0629416666667, -77.0545183333333], [39.2103107833333, -77.2405405], [0.0, 0.0], [39.2476214166667, -77.3495978666667], [39.0629416666667, -77.0545183333333], [39.2476214166667, -77.3495978666667], [39.2897248166667, -77.20132605], [39.0071933333333, -76.9819533333333], [39.3178207, -77.1977695333333], [0.0, 0.0], [39.2103107833333, -77.2405405], [0.0, 0.0], [0.0, 0.0], [39.0071933333333, -76.9819533333333], [0.0, 0.0], [39.2897248166667, -77.20132605], [39.0071933333333, -76.9819533333333], [39.0629416666667, -77.0545183333333], [39.0629416666667, -77.0545183333333], [39.0629416666667, -77.0545183333333], [39.2897248166667, -77.20132605], [0.0, 0.0], [39.0629416666667, -77.0545183333333], [39.2897248166667, -77.20132605], [39.0071933333333, -76.9819533333333], [39.0071933333333, -76.9819533333333], [0.0, 0.0], [39.0629416666667, -77.0545183333333], [0.0, 0.0], [39.2897248166667, -77.20132605], [39.0071933333333, -76.9819533333333], [39.2476214166667, -77.3495978666667], [39.2897248166667, -77.20132605], [39.2103107833333, -77.2405405], [0.0, 0.0], [0.0, 0.0], [39.2476214166667, -77.3495978666667], [39.2103107833333, -77.2405405], [0.0, 0.0], [39.2103107833333, -77.2405405], [39.2103107833333, -77.2405405], [39.2897248166667, -77.20132605], [39.0629416666667, -77.0545183333333], [0.0, 0.0], [39.2476214166667, -77.3495978666667], [39.0629416666667, -77.0545183333333], [0.0, 0.0], [39.0629416666667, -77.0545183333333], [39.0071933333333, -76.9819533333333], [0.0, 0.0], [0.0, 0.0], [39.0071933333333, -76.9819533333333], [39.2476214166667, -77.3495978666667], [0.0, 0.0], [0.0, 0.0], [39.14809485, -77.2371628166667], [39.14809485, -77.2371628166667], [39.18428735, -77.2633229166667], [39.2580984833333, -77.2249404666667], [39.2420159166667, -77.1436769833333], [39.18428735, -77.2633229166667], [39.2580984833333, -77.2249404666667], [39.2580984833333, -77.2249404666667], [39.14809485, -77.2371628166667], [39.2580984833333, -77.2249404666667], [39.18428735, -77.2633229166667], [39.18863015, -77.2397967666667], [39.14809485, -77.2371628166667], [39.2420159166667, -77.1436769833333], [39.14809485, -77.2371628166667], [39.2214628166667, -77.2642160833333], [39.2420159166667, -77.1436769833333], [39.2420159166667, -77.1436769833333], [39.2420159166667, -77.1436769833333], [39.3178207, -77.1977695333333], [39.14809485, -77.2371628166667], [39.14809485, -77.2371628166667], [39.2580984833333, -77.2249404666667], [39.2214628166667, -77.2642160833333], [39.18428735, -77.2633229166667], [39.3178207, -77.1977695333333], [39.18863015, -77.2397967666667], [39.18863015, -77.2397967666667], [39.18863015, -77.2397967666667], [39.2580984833333, -77.2249404666667], [39.3178207, -77.1977695333333], [39.2420159166667, -77.1436769833333], [39.14809485, -77.2371628166667], [39.3178207, -77.1977695333333], [39.2580984833333, -77.2249404666667], [39.3178207, -77.1977695333333], [39.2420159166667, -77.1436769833333], [39.18863015, -77.2397967666667], [39.18863015, -77.2397967666667], [39.2580984833333, -77.2249404666667], [39.2420159166667, -77.1436769833333], [39.3178207, -77.1977695333333], [39.18428735, -77.2633229166667], [39.18863015, -77.2397967666667], [39.0580266666667, -77.16322], [39.20338465, -77.2458932], [39.20338465, -77.2458932], [39.20338465, -77.2458932], [39.2668867166667, -77.218043], [39.51379075, -77.5683131666667], [39.1845133333333, -77.2628933333333], [39.1845133333333, -77.2628933333333], [39.0580266666667, -77.16322], [39.1845133333333, -77.2628933333333], [39.51379075, -77.5683131666667], [39.276607, -77.1598596333333], [39.51379075, -77.5683131666667], [39.51379075, -77.5683131666667], [39.0580266666667, -77.16322], [39.1845133333333, -77.2628933333333], [39.1511803333333, -77.2467649833333], [39.20338465, -77.2458932], [39.1852068833333, -77.2378664166667], [39.20338465, -77.2458932], [39.1845133333333, -77.2628933333333], [39.0580266666667, -77.16322], [39.51379075, -77.5683131666667], [39.20338465, -77.2458932], [39.51379075, -77.5683131666667], [39.51379075, -77.5683131666667], [39.1845133333333, -77.2628933333333], [39.1845133333333, -77.2628933333333], [39.2668867166667, -77.218043], [39.1852068833333, -77.2378664166667], [39.1845133333333, -77.2628933333333], [39.1852068833333, -77.2378664166667], [39.1852068833333, -77.2378664166667], [39.1511803333333, -77.2467649833333], [39.51379075, -77.5683131666667], [39.276607, -77.1598596333333], [39.276607, -77.1598596333333], [39.51379075, -77.5683131666667], [39.51379075, -77.5683131666667], [39.2668867166667, -77.218043], [39.276607, -77.1598596333333], [39.1511803333333, -77.2467649833333], [39.276607, -77.1598596333333], [39.20338465, -77.2458932], [39.20338465, -77.2458932], [39.2668867166667, -77.218043], [39.2668867166667, -77.218043], [39.1511803333333, -77.2467649833333], [39.0580266666667, -77.16322], [39.20338465, -77.2458932], [39.2668867166667, -77.218043], [39.1845133333333, -77.2628933333333], [39.1511803333333, -77.2467649833333], [39.1511803333333, -77.2467649833333], [39.1852068833333, -77.2378664166667], [39.1845133333333, -77.2628933333333], [39.1511803333333, -77.2467649833333], [39.0580266666667, -77.16322], [39.1845133333333, -77.2628933333333], [39.276607, -77.1598596333333], [39.1511803333333, -77.2467649833333], [39.1511803333333, -77.2467649833333], [39.51379075, -77.5683131666667], [39.1580944333333, -77.2730948], [39.1564120833333, -77.26073185], [39.1564120833333, -77.26073185], [39.20266135, -77.2536733666667], [39.20266135, -77.2536733666667], [39.20266135, -77.2536733666667], [39.20266135, -77.2536733666667], [39.1564120833333, -77.26073185], [39.1580944333333, -77.2730948], [39.1580944333333, -77.2730948], [39.20266135, -77.2536733666667], [39.20266135, -77.2536733666667], [39.20266135, -77.2536733666667], [39.20266135, -77.2536733666667], [39.1580944333333, -77.2730948], [39.20266135, -77.2536733666667], [39.1580944333333, -77.2730948], [39.1580944333333, -77.2730948], [39.1564120833333, -77.26073185], [39.1564120833333, -77.26073185], [39.1580944333333, -77.2730948], [39.1564120833333, -77.26073185], [39.1580944333333, -77.2730948], [39.1564120833333, -77.26073185], [0.0, 0.0], [0.0, 0.0], [0.0, 0.0], [39.1516132666667, -77.2192025666667], [0.0, 0.0], [39.1842196666667, -77.2633278166667], [0.0, 0.0], [0.0, 0.0], [39.1851276833333, -77.1496551166667], [39.0709111333333, -77.01275755], [0.0, 0.0], [0.0, 0.0], [0.0, 0.0], [0.0, 0.0], [39.1516132666667, -77.2192025666667], [39.1851276833333, -77.1496551166667], [0.0, 0.0], [0.0, 0.0], [0.0, 0.0], [0.0, 0.0], [0.0, 0.0], [39.1516132666667, -77.2192025666667], [39.1851276833333, -77.1496551166667], [39.2696606833333, -77.2151903], [0.0, 0.0], [0.0, 0.0], [39.2696606833333, -77.2151903], [0.0, 0.0], [0.0, 0.0], [39.2696606833333, -77.2151903], [0.0, 0.0], [0.0, 0.0], [39.1516132666667, -77.2192025666667], [39.1851276833333, -77.1496551166667], [39.2696606833333, -77.2151903], [0.0, 0.0], [0.0, 0.0], [39.0709111333333, -77.01275755], [0.0, 0.0], [39.1842196666667, -77.2633278166667], [0.0, 0.0], [0.0, 0.0], [0.0, 0.0], [39.1516132666667, -77.2192025666667], [0.0, 0.0], [39.1842196666667, -77.2633278166667], [0.0, 0.0], [0.0, 0.0], [0.0, 0.0], [0.0, 0.0], [39.1851276833333, -77.1496551166667], [39.1842196666667, -77.2633278166667], [0.0, 0.0], [0.0, 0.0], [39.1842196666667, -77.2633278166667], [0.0, 0.0], [39.1851276833333, -77.1496551166667], [0.0, 0.0], [39.1842196666667, -77.2633278166667], [39.0709111333333, -77.01275755], [39.2416527833333, -77.23512055], [39.1346833333333, -77.20953445], [39.24848565, -77.1928721833333], [39.2416527833333, -77.23512055], [39.2416527833333, -77.23512055], [39.2416527833333, -77.23512055], [39.2029337, -77.24484285], [39.1854047666667, -77.1520722166667], [39.2416527833333, -77.23512055], [39.1854047666667, -77.1520722166667], [39.1346833333333, -77.20953445], [39.17583425, -77.2545330666667], [39.18428735, -77.2633229166667], [39.2029337, -77.24484285], [39.24848565, -77.1928721833333], [39.1854047666667, -77.1520722166667], [39.18428735, -77.2633229166667], [39.1346833333333, -77.20953445], [39.18428735, -77.2633229166667], [39.24848565, -77.1928721833333], [39.17583425, -77.2545330666667], [39.2029337, -77.24484285], [39.18428735, -77.2633229166667], [39.24848565, -77.1928721833333], [39.18428735, -77.2633229166667], [39.1854047666667, -77.1520722166667], [39.1346833333333, -77.20953445], [39.2696606833333, -77.2151903], [39.1346833333333, -77.20953445], [39.2416527833333, -77.23512055], [39.17583425, -77.2545330666667], [39.24848565, -77.1928721833333], [39.2029337, -77.24484285], [39.1346833333333, -77.20953445], [39.1854047666667, -77.1520722166667], [39.17583425, -77.2545330666667], [39.2029337, -77.24484285], [39.1854047666667, -77.1520722166667], [39.18428735, -77.2633229166667], [39.17583425, -77.2545330666667], [39.17583425, -77.2545330666667], [39.2029337, -77.24484285], [39.24848565, -77.1928721833333], [39.2696606833333, -77.2151903], [39.1346833333333, -77.20953445], [39.24848565, -77.1928721833333], [39.1346833333333, -77.20953445], [39.1854047666667, -77.1520722166667], [39.2696606833333, -77.2151903], [39.2696606833333, -77.2151903], [39.2416527833333, -77.23512055], [39.284462, -77.20965455], [39.3002400833333, -77.1754315], [39.0695833333333, -77.1616116666667], [39.3002400833333, -77.1754315], [39.2346369, -77.2376747], [39.1497483333333, -77.233915], [39.1476332166667, -77.2338900333333], [39.1819916833333, -77.2651026666667], [39.0695833333333, -77.1616116666667], [39.0695833333333, -77.1616116666667], [39.2346369, -77.2376747], [39.1476332166667, -77.2338900333333], [39.2048601166667, -77.2454549333333], [39.0695833333333, -77.1616116666667], [39.284462, -77.20965455], [39.1819916833333, -77.2651026666667], [39.2346369, -77.2376747], [39.1497483333333, -77.233915], [39.1476332166667, -77.2338900333333], [39.3002400833333, -77.1754315], [39.1497483333333, -77.233915], [39.3002400833333, -77.1754315], [39.1497483333333, -77.233915], [39.2029337, -77.24484285], [39.3002400833333, -77.1754315], [39.284462, -77.20965455], [39.1819916833333, -77.2651026666667], [39.1819916833333, -77.2651026666667], [39.2346369, -77.2376747], [39.2346369, -77.2376747], [39.1819916833333, -77.2651026666667], [39.3002400833333, -77.1754315], [39.1497483333333, -77.233915], [39.0695833333333, -77.1616116666667], [39.2048601166667, -77.2454549333333], [39.284462, -77.20965455], [39.284462, -77.20965455], [39.2346369, -77.2376747], [39.2048601166667, -77.2454549333333], [39.0695833333333, -77.1616116666667], [39.1476332166667, -77.2338900333333], [39.2346369, -77.2376747], [39.2048601166667, -77.2454549333333], [39.1497483333333, -77.233915], [39.1497483333333, -77.233915], [39.1819916833333, -77.2651026666667], [39.3002400833333, -77.1754315], [39.2048601166667, -77.2454549333333], [39.2029337, -77.24484285], [39.2048601166667, -77.2454549333333], [39.2048601166667, -77.2454549333333], [39.3002400833333, -77.1754315], [39.284462, -77.20965455], [39.1497483333333, -77.233915], [39.284462, -77.20965455], [39.1819916833333, -77.2651026666667], [39.11332935, -77.2371871], [39.2414467, -77.2351600666667], [39.1460360333333, -77.4119265666667], [39.1460360333333, -77.4119265666667], [39.1460360333333, -77.4119265666667], [0.0, 0.0], [0.0, 0.0], [0.0, 0.0], [39.1476332166667, -77.2338900333333], [39.1460360333333, -77.4119265666667], [0.0, 0.0], [39.2414467, -77.2351600666667], [39.1460360333333, -77.4119265666667], [39.11332935, -77.2371871], [39.1460360333333, -77.4119265666667], [0.0, 0.0], [39.2414467, -77.2351600666667], [39.2414467, -77.2351600666667], [39.11332935, -77.2371871], [39.11332935, -77.2371871], [39.1460360333333, -77.4119265666667], [0.0, 0.0], [0.0, 0.0], [39.2414467, -77.2351600666667], [0.0, 0.0], [39.2414467, -77.2351600666667], [39.1460360333333, -77.4119265666667], [39.1460360333333, -77.4119265666667], [0.0, 0.0], [39.2414467, -77.2351600666667], [39.1460360333333, -77.4119265666667], [39.11332935, -77.2371871], [39.1460360333333, -77.4119265666667], [39.1460360333333, -77.4119265666667], [39.1460360333333, -77.4119265666667], [39.1460360333333, -77.4119265666667], [39.2414467, -77.2351600666667], [0.0, 0.0], [39.1460360333333, -77.4119265666667], [39.11332935, -77.2371871], [39.1460360333333, -77.4119265666667], [0.0, 0.0], [39.1460360333333, -77.4119265666667], [0.0, 0.0], [0.0, 0.0], [39.1476332166667, -77.2338900333333], [0.0, 0.0], [39.1460360333333, -77.4119265666667], [39.1460360333333, -77.4119265666667], [39.11332935, -77.2371871], [0.0, 0.0], [39.1460360333333, -77.4119265666667], [39.1460360333333, -77.4119265666667], [39.1460360333333, -77.4119265666667], [39.1460360333333, -77.4119265666667], [39.1460360333333, -77.4119265666667], [39.1460360333333, -77.4119265666667], [39.11332935, -77.2371871], [0.0, 0.0], [0.0, 0.0], [0.0, 0.0], [39.1853697666667, -77.1519288666667], [39.18006635, -77.1511199333333], [39.2815883333333, -77.2111233333333], [39.1990114, -77.1407891333333], [39.29151, -77.2098066666667], [0.0, 0.0], [39.29151, -77.2098066666667], [39.1707198333333, -77.26161185], [39.1853697666667, -77.1519288666667], [39.1707198333333, -77.26161185], [39.1707198333333, -77.26161185], [39.1990114, -77.1407891333333], [39.1707198333333, -77.26161185], [39.29151, -77.2098066666667], [39.1990114, -77.1407891333333], [39.1707198333333, -77.26161185], [39.2815883333333, -77.2111233333333], [39.18509755, -77.1489937333333], [39.29151, -77.2098066666667], [39.1707198333333, -77.26161185], [39.1990114, -77.1407891333333], [39.1990114, -77.1407891333333], [39.29151, -77.2098066666667], [39.29151, -77.2098066666667], [39.2815883333333, -77.2111233333333], [39.29151, -77.2098066666667], [39.18509755, -77.1489937333333], [39.1990114, -77.1407891333333], [39.18509755, -77.1489937333333], [39.1707198333333, -77.26161185], [39.1707198333333, -77.26161185], [39.29151, -77.2098066666667], [39.1853697666667, -77.1519288666667], [39.1853697666667, -77.1519288666667], [39.1853697666667, -77.1519288666667], [39.18509755, -77.1489937333333], [39.29151, -77.2098066666667], [0.0, 0.0], [39.18509755, -77.1489937333333], [39.29151, -77.2098066666667], [39.18006635, -77.1511199333333], [39.18006635, -77.1511199333333], [39.1990114, -77.1407891333333], [39.18509755, -77.1489937333333], [39.29151, -77.2098066666667], [39.1853697666667, -77.1519288666667], [39.18509755, -77.1489937333333], [39.2815883333333, -77.2111233333333], [0.0, 0.0], [0.0, 0.0], [39.2024316666667, -77.2535133333333], [39.2024316666667, -77.2535133333333], [0.0, 0.0], [39.2815883333333, -77.2111233333333], [39.2815883333333, -77.2111233333333], [0.0, 0.0], [39.2024316666667, -77.2535133333333], [39.2024316666667, -77.2535133333333], [39.2024316666667, -77.2535133333333], [39.2024316666667, -77.2535133333333], [39.2815883333333, -77.2111233333333], [0.0, 0.0], [39.191475, -77.24808], [39.0683335, -77.014156], [39.1775516666667, -77.2704683333333], [39.0683335, -77.014156], [0.0, 0.0], [39.299465, -77.1995], [0.0, 0.0], [0.0, 0.0], [39.2617433333333, -77.2436633333333], [39.2617433333333, -77.2436633333333], [0.0, 0.0], [39.2617433333333, -77.2436633333333], [39.2024033333333, -77.2534366666667], [0.0, 0.0], [39.2024033333333, -77.2534366666667], [39.191475, -77.24808], [39.299465, -77.1995], [39.2024033333333, -77.2534366666667], [39.210585, -77.23981], [39.202415, -77.2534816666667], [39.2617433333333, -77.2436633333333], [39.299465, -77.1995], [39.202415, -77.2534816666667], [0.0, 0.0], [39.191475, -77.24808], [39.202415, -77.2534816666667], [39.2854083333333, -77.20897], [39.299465, -77.1995], [0.0, 0.0], [39.2617433333333, -77.2436633333333], [39.1775516666667, -77.2704683333333], [39.0683335, -77.014156], [39.202415, -77.2534816666667], [39.210585, -77.23981], [39.2024033333333, -77.2534366666667], [39.2854083333333, -77.20897], [39.202415, -77.2534816666667], [39.2024033333333, -77.2534366666667], [39.1983166666667, -77.25052], [39.1775516666667, -77.2704683333333], [39.210585, -77.23981], [39.210585, -77.23981], [39.191475, -77.24808], [39.191475, -77.24808], [39.1775516666667, -77.2704683333333], [0.0, 0.0], [0.0, 0.0], [39.202415, -77.2534816666667], [39.299465, -77.1995], [39.1983166666667, -77.25052], [39.2854083333333, -77.20897], [39.2854083333333, -77.20897], [0.0, 0.0], [0.0, 0.0], [39.1775516666667, -77.2704683333333], [0.0, 0.0], [39.2854083333333, -77.20897], [39.1983166666667, -77.25052], [39.191475, -77.24808], [39.202415, -77.2534816666667], [39.2024033333333, -77.2534366666667], [39.191475, -77.24808], [39.299465, -77.1995], [0.0, 0.0], [39.2854083333333, -77.20897], [39.1775516666667, -77.2704683333333], [39.1775516666667, -77.2704683333333], [39.2854083333333, -77.20897], [0.0, 0.0], [39.2617433333333, -77.2436633333333], [39.1444716666667, -77.2737883333333], [39.20122, -77.2507766666667], [39.1444716666667, -77.2737883333333], [39.2834216666667, -77.21063], [39.24773, -77.1564033333333], [39.24773, -77.1564033333333], [39.1444716666667, -77.2737883333333], [39.2834216666667, -77.21063], [39.2869816666667, -77.2069283333333], [39.23316285, -77.23772335], [39.2315733333333, -77.2444066666667], [39.190994, -77.1521392166667], [39.18006635, -77.1511199333333], [39.2315733333333, -77.2444066666667], [39.24773, -77.1564033333333], [39.24773, -77.1564033333333], [39.20122, -77.2507766666667], [39.2869816666667, -77.2069283333333], [39.23316285, -77.23772335], [39.20122, -77.2507766666667], [39.2315733333333, -77.2444066666667], [39.23316285, -77.23772335], [39.190994, -77.1521392166667], [39.2315733333333, -77.2444066666667], [39.190994, -77.1521392166667], [39.2834216666667, -77.21063], [39.2315733333333, -77.2444066666667], [39.24773, -77.1564033333333], [39.20122, -77.2507766666667], [39.2834216666667, -77.21063], [39.24773, -77.1564033333333], [39.23316285, -77.23772335], [39.2315733333333, -77.2444066666667], [39.1444716666667, -77.2737883333333], [39.299025, -77.1993766666667], [39.23316285, -77.23772335], [39.20122, -77.2507766666667], [39.2834216666667, -77.21063], [39.2834216666667, -77.21063], [39.299025, -77.1993766666667], [39.18006635, -77.1511199333333], [39.1444716666667, -77.2737883333333], [39.23316285, -77.23772335], [39.2869816666667, -77.2069283333333], [39.2315733333333, -77.2444066666667], [39.190994, -77.1521392166667], [39.24773, -77.1564033333333], [39.190994, -77.1521392166667], [39.190994, -77.1521392166667], [39.18006635, -77.1511199333333], [39.1444716666667, -77.2737883333333], [39.190994, -77.1521392166667], [39.299025, -77.1993766666667], [39.20122, -77.2507766666667], [39.23316285, -77.23772335], [39.2323783333333, -77.2370483333333], [39.2996266666667, -77.2002966666667], [39.2996266666667, -77.2002966666667], [39.2323616666667, -77.23702], [39.2941416666667, -77.2037416666667], [39.2049783333333, -77.1405283333333], [39.18465, -77.26257], [39.1998533333333, -77.25536], [39.1998533333333, -77.25536], [39.2996266666667, -77.2002966666667], [39.18465, -77.26257], [39.2049783333333, -77.1405283333333], [39.2850266666667, -77.2118733333333], [39.18465, -77.26257], [39.2323783333333, -77.2370483333333], [39.27705, -77.20518], [39.2323783333333, -77.2370483333333], [39.2323616666667, -77.23702], [39.18465, -77.26257], [39.2323783333333, -77.2370483333333], [39.2941416666667, -77.2037416666667], [39.2850266666667, -77.2118733333333], [39.2049783333333, -77.1405283333333], [39.27705, -77.20518], [39.2941416666667, -77.2037416666667], [39.2049783333333, -77.1405283333333], [39.2996266666667, -77.2002966666667], [39.2869816666667, -77.2069283333333], [39.27705, -77.20518], [39.2323783333333, -77.2370483333333], [39.18465, -77.26257], [39.2049783333333, -77.1405283333333], [39.2049783333333, -77.1405283333333], [39.2323783333333, -77.2370483333333], [39.18465, -77.26257], [39.2996266666667, -77.2002966666667], [39.2049783333333, -77.1405283333333], [39.2361433333333, -77.2508983333333], [39.18465, -77.26257], [39.1998533333333, -77.25536], [39.27705, -77.20518], [39.2361433333333, -77.2508983333333], [39.1998533333333, -77.25536], [39.27705, -77.20518], [39.2996266666667, -77.2002966666667], [39.2941416666667, -77.2037416666667], [39.2996266666667, -77.2002966666667], [39.2049783333333, -77.1405283333333], [39.27705, -77.20518], [39.2869816666667, -77.2069283333333], [39.2049783333333, -77.1405283333333], [39.2850266666667, -77.2118733333333], [39.2323783333333, -77.2370483333333], [39.1998533333333, -77.25536], [39.18465, -77.26257], [39.2591266666667, -77.3027916666667], [39.2361433333333, -77.2508983333333], [39.2996266666667, -77.2002966666667], [39.2850266666667, -77.2118733333333], [39.2850266666667, -77.2118733333333], [39.2323616666667, -77.23702], [39.2323616666667, -77.23702], [39.2361433333333, -77.2508983333333], [39.2850266666667, -77.2118733333333], [39.2941416666667, -77.2037416666667], [39.18465, -77.26257], [39.2323616666667, -77.23702], [39.2361433333333, -77.2508983333333], [39.2361433333333, -77.2508983333333], [39.2361433333333, -77.2508983333333], [39.30023, -77.1989266666667], [39.27451, -77.2127783333333], [39.27451, -77.2127783333333], [39.2664983333333, -77.2164083333333], [39.2664983333333, -77.2164083333333], [39.2895266666667, -77.20527], [39.2772133333333, -77.2064366666667], [39.2895266666667, -77.20527], [39.1813666666667, -77.2613833333333], [39.2664983333333, -77.2164083333333], [39.2844516666667, -77.21009], [39.30023, -77.1989266666667], [39.2664983333333, -77.2164083333333], [39.30023, -77.1989266666667], [39.27451, -77.2127783333333], [39.2664983333333, -77.2164083333333], [39.2664983333333, -77.2164083333333], [39.2772133333333, -77.2064366666667], [39.2895266666667, -77.20527], [39.1813666666667, -77.2613833333333], [39.30023, -77.1989266666667], [38.99654, -77.0930783333333], [39.2844516666667, -77.21009], [39.235795, -77.2759733333333], [39.1940933333333, -77.2705983333333], [39.2323616666667, -77.23702], [39.2772133333333, -77.2064366666667], [39.2772133333333, -77.2064366666667], [39.2895266666667, -77.20527], [39.30023, -77.1989266666667], [39.27451, -77.2127783333333], [39.2772133333333, -77.2064366666667], [39.27451, -77.2127783333333], [39.27451, -77.2127783333333], [39.27451, -77.2127783333333], [39.2895266666667, -77.20527], [39.1813666666667, -77.2613833333333], [39.1940933333333, -77.2705983333333], [39.235795, -77.2759733333333], [39.27451, -77.2127783333333], [39.2664983333333, -77.2164083333333], [39.2844516666667, -77.21009], [39.2844516666667, -77.21009], [39.1813666666667, -77.2613833333333], [39.1940933333333, -77.2705983333333], [39.2895266666667, -77.20527], [39.2895266666667, -77.20527], [39.235795, -77.2759733333333], [39.1940933333333, -77.2705983333333], [39.30023, -77.1989266666667], [39.30023, -77.1989266666667], [39.2323616666667, -77.23702], [39.1813666666667, -77.2613833333333], [39.235795, -77.2759733333333], [39.1940933333333, -77.2705983333333], [39.2772133333333, -77.2064366666667], [39.1813666666667, -77.2613833333333], [39.27451, -77.2127783333333], [39.27451, -77.2127783333333], [39.235795, -77.2759733333333], [39.2664983333333, -77.2164083333333], [39.2664983333333, -77.2164083333333], [39.1940933333333, -77.2705983333333], [39.2844516666667, -77.21009], [39.1813666666667, -77.2613833333333], [38.99654, -77.0930783333333], [38.99654, -77.0930783333333], [39.235795, -77.2759733333333], [39.2895266666667, -77.20527], [39.2844516666667, -77.21009], [38.99654, -77.0930783333333], [38.99654, -77.0930783333333], [39.2772133333333, -77.2064366666667], [39.235795, -77.2759733333333], [39.1940933333333, -77.2705983333333], [39.2844516666667, -77.21009], [39.2844516666667, -77.21009], [39.235795, -77.2759733333333], [39.2321916666667, -77.2491583333333], [39.284185, -77.2093283333333], [39.28993, -77.2042316666667], [39.155065, -77.2888483333333], [39.25938, -77.1480466666667], [39.2321916666667, -77.2491583333333], [39.2049816666667, -77.244965], [39.155065, -77.2888483333333], [39.25938, -77.1480466666667], [39.21804, -77.2386233333333], [39.284185, -77.2093283333333], [39.25938, -77.1480466666667], [39.28513, -77.20872], [39.177785, -77.2655766666667], [39.25938, -77.1480466666667], [39.25938, -77.1480466666667], [39.25938, -77.1480466666667], [39.177785, -77.2655766666667], [39.28513, -77.20872], [39.28993, -77.2042316666667], [39.177785, -77.2655766666667], [39.1927116666667, -77.2742266666667], [39.2775216666667, -77.2085083333333], [39.2880516666667, -77.206895], [39.28993, -77.2042316666667], [39.2049816666667, -77.244965], [39.2321916666667, -77.2491583333333], [39.155065, -77.2888483333333], [39.21804, -77.2386233333333], [39.284185, -77.2093283333333], [39.28513, -77.20872], [39.21804, -77.2386233333333], [39.2775216666667, -77.2085083333333], [39.25938, -77.1480466666667], [39.1927116666667, -77.2742266666667], [39.28993, -77.2042316666667], [39.1927116666667, -77.2742266666667], [39.177785, -77.2655766666667], [39.2880516666667, -77.206895], [39.1927116666667, -77.2742266666667], [39.28993, -77.2042316666667], [39.177785, -77.2655766666667], [39.2775216666667, -77.2085083333333], [39.28513, -77.20872], [39.284185, -77.2093283333333], [39.2880516666667, -77.206895], [39.28513, -77.20872], [39.2049816666667, -77.244965], [39.2049816666667, -77.244965], [39.28993, -77.2042316666667], [39.284185, -77.2093283333333], [39.2775216666667, -77.2085083333333], [39.21804, -77.2386233333333], [39.21804, -77.2386233333333], [39.2880516666667, -77.206895], [39.28513, -77.20872], [39.284185, -77.2093283333333], [39.2321916666667, -77.2491583333333], [39.2321916666667, -77.2491583333333], [39.28993, -77.2042316666667], [39.2049816666667, -77.244965], [39.21804, -77.2386233333333], [39.2049816666667, -77.244965], [39.177785, -77.2655766666667], [39.177785, -77.2655766666667], [39.2049816666667, -77.244965], [39.155065, -77.2888483333333], [39.284185, -77.2093283333333], [39.25938, -77.1480466666667], [39.2321916666667, -77.2491583333333], [39.21804, -77.2386233333333], [39.21804, -77.2386233333333], [39.284185, -77.2093283333333], [39.2880516666667, -77.206895], [39.28513, -77.20872], [39.1927116666667, -77.2742266666667], [39.155065, -77.2888483333333], [39.2880516666667, -77.206895], [39.2321916666667, -77.2491583333333], [39.2485416666667, -77.195445], [39.179035, -77.2649366666667], [39.2485416666667, -77.195445], [39.28548, -77.2089666666667], [39.2829033333333, -77.2332583333333], [39.179035, -77.2649366666667], [39.1799683333333, -77.26954], [39.2829033333333, -77.2332583333333], [39.2880333333333, -77.2071883333333], [39.2880333333333, -77.2071883333333], [39.2650566666667, -77.218775], [39.1783383333333, -77.2380033333333], [39.22434, -77.23703], [39.2829033333333, -77.2332583333333], [39.1783383333333, -77.2380033333333], [39.1799683333333, -77.26954], [39.179035, -77.2649366666667], [39.2853483333333, -77.2088716666667], [39.28548, -77.2089666666667], [39.2967233333333, -77.2264316666667], [39.2853483333333, -77.2088716666667], [39.2896, -77.201385], [39.2853483333333, -77.2088716666667], [39.0582106666667, -77.0554898166667], [39.1799683333333, -77.26954], [39.22434, -77.23703], [39.2485416666667, -77.195445], [39.2896, -77.201385], [39.28548, -77.2089666666667], [39.2932633333333, -77.1913883333333], [39.28548, -77.2089666666667], [39.281165, -77.2112783333333], [39.281165, -77.2112783333333], [39.2853483333333, -77.2088716666667], [39.281165, -77.2112783333333], [39.1783383333333, -77.2380033333333], [39.0582106666667, -77.0554898166667], [39.2880333333333, -77.2071883333333], [39.2829033333333, -77.2332583333333], [39.1783383333333, -77.2380033333333], [39.2650566666667, -77.218775], [39.1799683333333, -77.26954], [39.2829033333333, -77.2332583333333], [39.2967233333333, -77.2264316666667], [39.2932633333333, -77.1913883333333], [39.179035, -77.2649366666667], [39.1799683333333, -77.26954], [39.281165, -77.2112783333333], [39.2829033333333, -77.2332583333333], [39.1799683333333, -77.26954], [39.2967233333333, -77.2264316666667], [39.2485416666667, -77.195445], [39.2829033333333, -77.2332583333333], [39.2967233333333, -77.2264316666667], [39.2829033333333, -77.2332583333333], [39.22434, -77.23703], [39.2880333333333, -77.2071883333333], [39.22434, -77.23703], [39.2967233333333, -77.2264316666667], [39.2853483333333, -77.2088716666667], [39.1444716666667, -77.2737883333333], [39.2967233333333, -77.2264316666667], [39.1783383333333, -77.2380033333333], [39.2880333333333, -77.2071883333333], [39.2853483333333, -77.2088716666667], [39.0582106666667, -77.0554898166667], [39.2853483333333, -77.2088716666667], [39.1444716666667, -77.2737883333333], [39.2650566666667, -77.218775], [39.281165, -77.2112783333333], [39.28548, -77.2089666666667], [39.2896, -77.201385], [39.2485416666667, -77.195445], [39.1799683333333, -77.26954], [39.1799683333333, -77.26954], [39.2650566666667, -77.218775], [39.2967233333333, -77.2264316666667], [39.2853483333333, -77.2088716666667], [39.2896, -77.201385], [39.281165, -77.2112783333333], [39.281165, -77.2112783333333], [39.1783383333333, -77.2380033333333], [39.2650566666667, -77.218775], [39.179035, -77.2649366666667], [39.2967233333333, -77.2264316666667], [39.1444716666667, -77.2737883333333], [39.2896, -77.201385], [39.2880333333333, -77.2071883333333], [39.179035, -77.2649366666667], [39.179035, -77.2649366666667], [39.28548, -77.2089666666667], [39.2880333333333, -77.2071883333333], [39.1783383333333, -77.2380033333333], [39.1799683333333, -77.26954], [39.22434, -77.23703], [39.2896, -77.201385], [39.28548, -77.2089666666667], [39.2485416666667, -77.195445], [39.2932633333333, -77.1913883333333], [39.2967233333333, -77.2264316666667], [39.2650566666667, -77.218775], [39.2880333333333, -77.2071883333333], [39.2650566666667, -77.218775], [39.0693333333333, -77.16206], [39.1752166666667, -77.2723316666667], [39.1823883333333, -77.2424366666667], [39.206475, -77.2465], [39.2303933333333, -77.2680483333333], [39.1823883333333, -77.2424366666667], [39.1823883333333, -77.2424366666667], [39.1741083333333, -77.261635], [39.0693333333333, -77.16206], [39.1752166666667, -77.2723316666667], [39.1935988333333, -77.23838], [39.2840683333333, -77.2092333333333], [39.0693333333333, -77.16206], [39.1891938333333, -77.2483413333333], [39.1983016666667, -77.2456616666667], [39.1983016666667, -77.2456616666667], [39.1305016666667, -77.2404866666667], [39.20008, -77.2474816666667], [39.1848755, -77.101351], [39.206475, -77.2465], [39.0085683333333, -77.01576], [39.184495, -77.2635933333333], [39.06936, -77.1620441666667], [39.0085683333333, -77.01576], [39.1801016666667, -77.2643616666667], [39.06936, -77.1620441666667], [39.1815316666667, -77.273825], [39.2303933333333, -77.2680483333333], [39.223475, -77.2599083333333], [39.2028465, -77.2547861666667], [39.1752166666667, -77.2723316666667], [39.2303933333333, -77.2680483333333], [39.2041708333333, -77.2487773333333], [39.0085683333333, -77.01576], [39.2028465, -77.2547861666667], [39.1983016666667, -77.2456616666667], [39.1815316666667, -77.273825], [39.2041708333333, -77.2487773333333], [39.1752166666667, -77.2723316666667], [39.1801016666667, -77.2643616666667], [39.184495, -77.2635933333333], [39.2303933333333, -77.2680483333333], [39.1752166666667, -77.2723316666667], [39.1823883333333, -77.2424366666667], [39.06936, -77.1620441666667], [39.1741083333333, -77.261635], [39.2065316666667, -77.2478616666667], [39.20008, -77.2474816666667], [39.184495, -77.2635933333333], [39.176905, -77.270975], [39.1891938333333, -77.2483413333333], [39.2840683333333, -77.2092333333333], [39.1823883333333, -77.2424366666667], [39.0693333333333, -77.16206], [39.1983016666667, -77.2456616666667], [39.1935988333333, -77.23838], [39.2303933333333, -77.2680483333333], [39.1741083333333, -77.261635], [39.2065316666667, -77.2478616666667], [39.2028465, -77.2547861666667], [39.2041708333333, -77.2487773333333], [39.176905, -77.270975], [39.260045, -77.2229716666667], [39.1983016666667, -77.2456616666667], [39.260045, -77.2229716666667], [39.2303933333333, -77.2680483333333], [39.2840683333333, -77.2092333333333], [39.2065316666667, -77.2478616666667], [39.1305016666667, -77.2404866666667], [39.2065316666667, -77.2478616666667], [39.1823883333333, -77.2424366666667], [39.1891938333333, -77.2483413333333], [39.0693333333333, -77.16206], [39.260045, -77.2229716666667], [39.260045, -77.2229716666667], [39.2065316666667, -77.2478616666667], [39.06936, -77.1620441666667], [39.1983016666667, -77.2456616666667], [39.1801016666667, -77.2643616666667], [39.223475, -77.2599083333333], [39.06936, -77.1620441666667], [39.2065316666667, -77.2478616666667], [39.176905, -77.270975], [39.2303933333333, -77.2680483333333], [39.0085683333333, -77.01576], [39.1752166666667, -77.2723316666667], [39.0085683333333, -77.01576], [39.20008, -77.2474816666667], [39.06936, -77.1620441666667], [39.1935988333333, -77.23838], [39.223475, -77.2599083333333], [39.176905, -77.270975], [39.260045, -77.2229716666667], [39.260045, -77.2229716666667], [39.2065316666667, -77.2478616666667], [39.206475, -77.2465], [39.1741083333333, -77.261635], [39.2932633333333, -77.1913883333333], [39.2863783333333, -77.2081433333333], [39.2879166666667, -77.2070716666667], [39.2879166666667, -77.2070716666667], [39.2854416666667, -77.2089533333333], [39.2880633333333, -77.2031733333333], [39.2932633333333, -77.1913883333333], [39.198385, -77.25561], [39.2854566666667, -77.20902], [39.28254, -77.2053533333333], [39.28254, -77.2053533333333], [39.2535266666667, -77.2300766666667], [39.2535266666667, -77.2300766666667], [39.17469, -77.25908], [39.2064466666667, -77.24665], [39.2853416666667, -77.2086766666667], [39.2854416666667, -77.2089533333333], [39.2863783333333, -77.2081433333333], [39.2863783333333, -77.2081433333333], [39.28254, -77.2053533333333], [39.2854566666667, -77.20902], [39.2064466666667, -77.24665], [39.2535266666667, -77.2300766666667], [39.2854566666667, -77.20902], [39.17469, -77.25908], [39.2854416666667, -77.2089533333333], [39.2064466666667, -77.24665], [39.2534816666667, -77.2290266666667], [39.2853416666667, -77.2086766666667], [39.2535266666667, -77.2300766666667], [39.2534816666667, -77.2290266666667], [39.2853416666667, -77.2086766666667], [39.2534816666667, -77.2290266666667], [39.2064466666667, -77.24665], [39.2854416666667, -77.2089533333333], [39.2880633333333, -77.2031733333333], [39.2863783333333, -77.2081433333333], [39.28254, -77.2053533333333], [39.2879166666667, -77.2070716666667], [39.2096083333333, -77.23991], [39.198385, -77.25561], [39.2534816666667, -77.2290266666667], [39.2932633333333, -77.1913883333333], [39.17469, -77.25908], [39.204465, -77.2438366666667], [39.28254, -77.2053533333333], [39.2535266666667, -77.2300766666667], [39.2064466666667, -77.24665], [39.2853416666667, -77.2086766666667], [39.198385, -77.25561], [39.2853416666667, -77.2086766666667], [39.2879166666667, -77.2070716666667], [39.204465, -77.2438366666667], [39.2854566666667, -77.20902], [39.2863783333333, -77.2081433333333], [39.2535266666667, -77.2300766666667], [39.2064466666667, -77.24665], [39.2880633333333, -77.2031733333333], [39.28254, -77.2053533333333], [39.2932633333333, -77.1913883333333], [39.2880633333333, -77.2031733333333], [39.28254, -77.2053533333333], [39.2064466666667, -77.24665], [39.2096083333333, -77.23991], [39.2879166666667, -77.2070716666667], [39.17469, -77.25908], [39.204465, -77.2438366666667], [39.204465, -77.2438366666667], [39.2096083333333, -77.23991], [39.2534816666667, -77.2290266666667], [39.2853416666667, -77.2086766666667], [39.17469, -77.25908], [39.2854416666667, -77.2089533333333], [39.2854566666667, -77.20902], [39.2863783333333, -77.2081433333333], [39.28254, -77.2053533333333], [39.2854416666667, -77.2089533333333], [39.2880633333333, -77.2031733333333], [39.2534816666667, -77.2290266666667], [39.198385, -77.25561], [39.2879166666667, -77.2070716666667], [39.2880633333333, -77.2031733333333], [39.1791533333333, -77.2378316666667], [39.23128, -77.2381233333333], [38.9909088333333, -77.1552284833333], [39.1791533333333, -77.2378316666667], [39.2964666666667, -77.226445], [39.182985, -77.2654633333333], [39.1846833333333, -77.2623716666667], [39.1751633333333, -77.2721166666667], [39.27542, -77.214495], [39.1751633333333, -77.2721166666667], [39.1751633333333, -77.2721166666667], [39.182985, -77.2654633333333], [39.249685, -77.2330483333333], [39.182985, -77.2654633333333], [39.0070659333333, -77.07928655], [39.1791533333333, -77.2378316666667], [39.2964666666667, -77.226445], [39.0070659333333, -77.07928655], [38.9909088333333, -77.1552284833333], [39.27542, -77.214495], [39.3000866666667, -77.1988083333333], [39.249685, -77.2330483333333], [39.23128, -77.2381233333333], [39.249685, -77.2330483333333], [39.23128, -77.2381233333333], [39.1791533333333, -77.2378316666667], [39.182985, -77.2654633333333], [39.1791533333333, -77.2378316666667], [39.2964666666667, -77.226445], [39.1846833333333, -77.2623716666667], [39.0070659333333, -77.07928655], [38.9909088333333, -77.1552284833333], [39.27542, -77.214495], [39.27542, -77.214495], [39.2413133333333, -77.2350933333333], [39.0070659333333, -77.07928655], [39.1791533333333, -77.2378316666667], [38.9909088333333, -77.1552284833333], [39.1846833333333, -77.2623716666667], [39.249685, -77.2330483333333], [39.0070659333333, -77.07928655], [39.3000866666667, -77.1988083333333], [39.0070659333333, -77.07928655], [39.27542, -77.214495], [39.249685, -77.2330483333333], [39.2964666666667, -77.226445], [39.3000866666667, -77.1988083333333], [39.23128, -77.2381233333333], [39.0070659333333, -77.07928655], [39.1751633333333, -77.2721166666667], [39.1846833333333, -77.2623716666667], [39.2964666666667, -77.226445], [39.3000866666667, -77.1988083333333], [39.0070659333333, -77.07928655], [39.2964666666667, -77.226445], [39.2413133333333, -77.2350933333333], [39.23128, -77.2381233333333], [39.27542, -77.214495], [39.2964666666667, -77.226445], [39.23128, -77.2381233333333], [39.2413133333333, -77.2350933333333], [39.3000866666667, -77.1988083333333], [39.0070659333333, -77.07928655], [39.1751633333333, -77.2721166666667], [39.249685, -77.2330483333333], [39.2964666666667, -77.226445], [39.249685, -77.2330483333333], [39.2964666666667, -77.226445], [39.1751633333333, -77.2721166666667], [39.3000866666667, -77.1988083333333], [39.249685, -77.2330483333333], [39.27542, -77.214495], [39.1751633333333, -77.2721166666667], [39.2964666666667, -77.226445], [39.3000866666667, -77.1988083333333], [39.0070659333333, -77.07928655], [38.9909088333333, -77.1552284833333], [39.2413133333333, -77.2350933333333], [39.17719, -77.4434133333333], [39.17719, -77.4434133333333], [39.17719, -77.4434133333333], [39.17719, -77.4434133333333], [39.17719, -77.4434133333333], [39.17719, -77.4434133333333], [39.17719, -77.4434133333333], [39.17719, -77.4434133333333], [39.17719, -77.4434133333333], [39.17719, -77.4434133333333], [39.17719, -77.4434133333333], [39.17719, -77.4434133333333], [39.0156929833333, -77.0305167333333], [39.1313133333333, -77.1707183333333], [39.0156929833333, -77.0305167333333], [39.0156929833333, -77.0305167333333], [39.0156929833333, -77.0305167333333], [39.0156929833333, -77.0305167333333], [39.0156929833333, -77.0305167333333], [39.0156929833333, -77.0305167333333], [39.0156929833333, -77.0305167333333], [38.9847052, -77.09419215], [39.0113966333333, -77.0639415166667], [39.0113966333333, -77.0639415166667], [39.0113966333333, -77.0639415166667], [39.09421, -77.1758416666667], [39.09421, -77.1758416666667], [39.0113966333333, -77.0639415166667], [38.9847052, -77.09419215], [39.10834, -77.1854466666667], [38.9847052, -77.09419215], [39.09421, -77.1758416666667], [39.0113966333333, -77.0639415166667], [38.9847052, -77.09419215], [39.0113966333333, -77.0639415166667], [39.0113966333333, -77.0639415166667], [39.10834, -77.1854466666667], [39.09421, -77.1758416666667], [39.0113966333333, -77.0639415166667], [38.9847052, -77.09419215], [39.09421, -77.1758416666667], [39.09421, -77.1758416666667], [39.10834, -77.1854466666667], [38.9847052, -77.09419215], [39.09421, -77.1758416666667], [39.10834, -77.1854466666667], [39.0113966333333, -77.0639415166667], [39.09421, -77.1758416666667], [38.9847052, -77.09419215], [39.09421, -77.1758416666667], [39.10834, -77.1854466666667], [39.09421, -77.1758416666667], [39.0113966333333, -77.0639415166667], [39.09421, -77.1758416666667], [39.0113966333333, -77.0639415166667], [0.0, 0.0], [38.9847052, -77.09419215], [39.2094689666667, -77.1653792], [39.1940933333333, -77.2705983333333], [39.1815316666667, -77.273825], [39.290045, -77.20619], [39.210835, -77.2393383333333], [39.0189566666667, -77.1040416666667], [39.201675, -77.2497633333333], [39.2324133333333, -77.2370333333333], [39.24773, -77.1564033333333], [39.1516132666667, -77.2192025666667], [39.2024316666667, -77.2535133333333], [39.2869816666667, -77.2069283333333], [39.2094689666667, -77.1653792], [39.0189566666667, -77.1040416666667], [39.210585, -77.23981], [39.2024033333333, -77.2534366666667], [39.1911419166667, -77.27014585], [39.2650566666667, -77.218775], [39.2650566666667, -77.218775], [39.210835, -77.2393383333333], [39.2591266666667, -77.3027916666667], [39.2324133333333, -77.2370333333333], [39.201675, -77.2497633333333], [39.290045, -77.20619], [39.1911419166667, -77.27014585], [39.179405, -77.2634516666667], [39.2024033333333, -77.2534366666667], [39.2094689666667, -77.1653792], [39.2024316666667, -77.2535133333333], [39.24773, -77.1564033333333], [39.299465, -77.1995], [39.1619666666667, -77.2565883333333], [39.2591266666667, -77.3027916666667], [39.2324133333333, -77.2370333333333], [39.210585, -77.23981], [39.2834216666667, -77.21063], [39.0189566666667, -77.1040416666667], [39.1964033333333, -77.23854], [39.2324133333333, -77.2370333333333], [39.2321916666667, -77.2491583333333], [39.2024316666667, -77.2535133333333], [39.201675, -77.2497633333333], [39.290045, -77.20619], [39.1753466666667, -77.2548566666667], [39.2094689666667, -77.1653792], [39.0189566666667, -77.1040416666667], [39.24848565, -77.1928721833333], [39.179405, -77.2634516666667], [39.1619666666667, -77.2565883333333], [39.1911419166667, -77.27014585], [39.21804, -77.2386233333333], [39.2324133333333, -77.2370333333333], [39.210835, -77.2393383333333], [39.2094689666667, -77.1653792], [39.0189566666667, -77.1040416666667], [39.24773, -77.1564033333333], [39.299465, -77.1995], [39.1516132666667, -77.2192025666667], [39.1990114, -77.1407891333333], [39.2591266666667, -77.3027916666667], [0.0, 0.0], [39.2324133333333, -77.2370333333333], [39.0189566666667, -77.1040416666667], [39.1964033333333, -77.23854], [39.290045, -77.20619], [39.2094689666667, -77.1653792], [39.179405, -77.2634516666667], [39.2834216666667, -77.21063], [39.1619666666667, -77.2565883333333], [39.210835, -77.2393383333333], [39.201675, -77.2497633333333], [39.2094689666667, -77.1653792], [39.24773, -77.1564033333333], [39.1619666666667, -77.2565883333333], [39.24848565, -77.1928721833333], [39.299465, -77.1995], [39.2869816666667, -77.2069283333333], [39.2324133333333, -77.2370333333333], [39.1516132666667, -77.2192025666667], [39.1753466666667, -77.2548566666667], [39.2650566666667, -77.218775], [39.2591266666667, -77.3027916666667], [39.0189566666667, -77.1040416666667], [0.0, 0.0], [39.1766, -77.2702316666667], [39.1313133333333, -77.1707183333333], [39.1313133333333, -77.1707183333333], [39.1313133333333, -77.1707183333333], [39.12667, -77.4230783333333], [39.01249, -77.1080116666667], [39.01249, -77.1080116666667], [38.9983948, -76.9987739333333], [39.0401923166667, -77.1166733666667], [38.9927110166667, -77.0323893166667], [39.0045928333333, -76.9961838666667], [38.9841116666667, -77.0945383333333], [39.12667, -77.4230783333333], [39.2863783333333, -77.2081433333333], [39.12667, -77.4230783333333], [39.0844167666667, -77.0799335666667], [39.0844167666667, -77.0799335666667], [38.9841116666667, -77.0945383333333], [0.0, 0.0], [0.0, 0.0], [39.014485, -77.0341966666667], [0.0, 0.0], [39.014485, -77.0341966666667], [0.0, 0.0], [39.014485, -77.0341966666667], [0.0, 0.0], [39.014485, -77.0341966666667], [0.0, 0.0], [39.014485, -77.0341966666667], [0.0, 0.0], [39.014485, -77.0341966666667], [39.0194183333333, -77.0127566666667], [0.0, 0.0], [39.014485, -77.0341966666667], [39.0194183333333, -77.0127566666667], [38.9905481666667, -77.0227394666667], [38.9905481666667, -77.0227394666667], [38.9905481666667, -77.0227394666667], [38.9906116666667, -77.02297], [38.9905481666667, -77.0227394666667], [38.9906116666667, -77.02297], [38.9905481666667, -77.0227394666667], [38.9906116666667, -77.02297], [38.9905481666667, -77.0227394666667], [38.9906116666667, -77.02297], [38.9905481666667, -77.0227394666667], [38.9906116666667, -77.02297], [38.9905481666667, -77.0227394666667], [38.9906116666667, -77.02297], [38.9905481666667, -77.0227394666667], [38.9905481666667, -77.0227394666667], [38.9905481666667, -77.0227394666667], [38.9905481666667, -77.0227394666667], [39.14983, -77.2341066666667], [39.14983, -77.2341066666667], [39.14983, -77.2341066666667], [39.14983, -77.2341066666667], [39.14983, -77.2341066666667], [39.14983, -77.2341066666667], [39.14983, -77.2341066666667], [39.14983, -77.2341066666667], [39.14983, -77.2341066666667], [39.14983, -77.2341066666667], [39.14983, -77.2341066666667], [39.001495, -77.0970166666667], [39.001495, -77.0970166666667], [39.001495, -77.0970166666667], [39.149025, -77.2225266666667], [39.149025, -77.2225266666667], [39.149025, -77.2225266666667], [39.149025, -77.2225266666667], [39.149025, -77.2225266666667], [39.149025, -77.2225266666667], [39.0584133333333, -77.0480816666667], [39.0584133333333, -77.0480816666667], [39.0584133333333, -77.0480816666667], [39.0584133333333, -77.0480816666667], [39.0584133333333, -77.0480816666667], [39.0584133333333, -77.0480816666667], [39.0999283333333, -77.00411], [39.0999283333333, -77.00411], [39.045425, -76.9907366666667], [39.045425, -76.9907366666667], [39.045425, -76.9907366666667], [0.0, 0.0], [0.0, 0.0], [39.0216766666667, -76.97699], [0.0, 0.0], [39.0216766666667, -76.97699], [0.0, 0.0], [39.0216766666667, -76.97699], [0.0, 0.0], [39.0216766666667, -76.97699], [0.0, 0.0], [39.0216766666667, -76.97699], [0.0, 0.0], [39.0216766666667, -76.97699], [0.0, 0.0], [39.0216766666667, -76.97699], [0.0, 0.0], [0.0, 0.0], [0.0, 0.0], [0.0, 0.0], [0.0, 0.0], [39.1496448333333, -77.233707], [39.1496448333333, -77.233707], [39.1496448333333, -77.233707], [0.0, 0.0], [39.1496448333333, -77.233707], [0.0, 0.0], [39.1496448333333, -77.233707], [0.0, 0.0], [39.0584895166667, -77.04798345], [0.0, 0.0], [39.1496448333333, -77.233707], [0.0, 0.0], [39.0584895166667, -77.04798345], [0.0, 0.0], [39.1496448333333, -77.233707], [0.0, 0.0], [39.0584895166667, -77.04798345], [0.0, 0.0], [39.1496448333333, -77.233707], [0.0, 0.0], [39.0584895166667, -77.04798345], [0.0, 0.0], [39.1496448333333, -77.233707], [0.0, 0.0], [39.0584895166667, -77.04798345], [0.0, 0.0], [39.1496448333333, -77.233707], [39.0584895166667, -77.04798345], [0.0, 0.0], [39.1496448333333, -77.233707], [39.0584895166667, -77.04798345], [0.0, 0.0], [39.1496448333333, -77.233707], [39.0584895166667, -77.04798345], [0.0, 0.0], [39.1496448333333, -77.233707], [39.0584895166667, -77.04798345], [0.0, 0.0], [39.1496448333333, -77.233707], [39.0584895166667, -77.04798345], [0.0, 0.0], [39.1496448333333, -77.233707], [39.0584895166667, -77.04798345], [0.0, 0.0], [39.1496448333333, -77.233707], [39.0584895166667, -77.04798345], [0.0, 0.0], [39.1496448333333, -77.233707], [39.0584895166667, -77.04798345], [0.0, 0.0], [39.1496448333333, -77.233707], [39.0584895166667, -77.04798345], [39.1496448333333, -77.233707], [39.1496448333333, -77.233707], [39.01999, -77.0141166666667], [39.1496448333333, -77.233707], [39.01999, -77.0141166666667], [39.1496448333333, -77.233707], [39.01999, -77.0141166666667], [39.01999, -77.0141166666667], [39.061125, -77.0440866666667], [39.061125, -77.0440866666667], [39.061125, -77.0440866666667], [39.061125, -77.0440866666667], [39.061125, -77.0440866666667], [39.061125, -77.0440866666667], [39.061125, -77.0440866666667], [39.061125, -77.0440866666667], [0.0, 0.0], [39.0558283333333, -77.0499], [39.061125, -77.0440866666667], [0.0, 0.0], [39.0558283333333, -77.0499], [39.061125, -77.0440866666667], [0.0, 0.0], [39.0558283333333, -77.0499], [39.061125, -77.0440866666667], [0.0, 0.0], [39.0558283333333, -77.0499], [39.061125, -77.0440866666667], [39.05831965, -77.0480393166667], [0.0, 0.0], [39.061125, -77.0440866666667], [39.05831965, -77.0480393166667], [0.0, 0.0], [39.061125, -77.0440866666667], [39.05831965, -77.0480393166667], [39.061125, -77.0440866666667], [39.05831965, -77.0480393166667], [39.061125, -77.0440866666667], [39.061125, -77.0440866666667], [39.061125, -77.0440866666667], [0.0, 0.0], [0.0, 0.0], [39.0693866666667, -77.059875], [0.0, 0.0], [39.0693866666667, -77.059875], [0.0, 0.0], [39.0693866666667, -77.059875], [0.0, 0.0], [0.0, 0.0], [39.0693866666667, -77.059875], [0.0, 0.0], [0.0, 0.0], [0.0, 0.0], [0.0, 0.0], [0.0, 0.0], [0.0, 0.0], [0.0, 0.0], [0.0, 0.0], [0.0, 0.0], [0.0, 0.0], [0.0, 0.0], [0.0, 0.0], [0.0, 0.0], [0.0, 0.0], [0.0, 0.0], [0.0, 0.0], [0.0, 0.0], [0.0, 0.0], [0.0, 0.0], [0.0, 0.0], [0.0, 0.0], [0.0, 0.0], [0.0, 0.0], [39.1015516666667, -77.00235], [0.0, 0.0], [0.0, 0.0], [0.0, 0.0], [0.0, 0.0], [0.0, 0.0], [0.0, 0.0], [0.0, 0.0], [0.0, 0.0], [0.0, 0.0], [0.0, 0.0], [0.0, 0.0], [39.0583683333333, -77.0480483333333], [0.0, 0.0], [39.0583683333333, -77.0480483333333], [0.0, 0.0], [39.0583683333333, -77.0480483333333], [0.0, 0.0], [39.0583683333333, -77.0480483333333], [0.0, 0.0], [0.0, 0.0], [0.0, 0.0], [0.0, 0.0], [0.0, 0.0], [39.06201, -77.0451066666667], [39.0766457833333, -76.95778615], [39.06201, -77.0451066666667], [39.0766457833333, -76.95778615], [39.06201, -77.0451066666667], [39.0766457833333, -76.95778615], [39.06201, -77.0451066666667], [39.0766457833333, -76.95778615], [39.06201, -77.0451066666667], [39.06201, -77.0451066666667], [39.06201, -77.0451066666667], [39.06201, -77.0451066666667], [39.06201, -77.0451066666667], [39.06201, -77.0451066666667], [39.06201, -77.0451066666667], [39.06201, -77.0451066666667], [39.0294983333333, -77.04751], [39.0294983333333, -77.04751], [39.0294983333333, -77.04751], [39.1069372166667, -77.1839368833333], [39.1069372166667, -77.1839368833333], [39.1069372166667, -77.1839368833333], [39.1069372166667, -77.1839368833333], [39.1069372166667, -77.1839368833333], [39.1069372166667, -77.1839368833333], [39.1069372166667, -77.1839368833333], [0.0, 0.0], [0.0, 0.0], [0.0, 0.0], [0.0, 0.0], [39.0574366666667, -77.05098], [39.0574366666667, -77.05098], [39.0574366666667, -77.05098], [39.0574366666667, -77.05098], [39.0574366666667, -77.05098], [39.0574366666667, -77.05098], [0.0, 0.0], [0.0, 0.0], [0.0, 0.0], [0.0, 0.0], [0.0, 0.0], [0.0, 0.0], [0.0, 0.0], [0.0, 0.0], [0.0, 0.0], [39.1580766666667, -77.213965], [39.1580766666667, -77.213965], [39.1580766666667, -77.213965], [39.1580766666667, -77.213965], [39.1580766666667, -77.213965], [39.1580766666667, -77.213965], [39.1580766666667, -77.213965], [39.1580766666667, -77.213965], [39.1580766666667, -77.213965], [39.1580766666667, -77.213965], [39.058365, -77.0479816666667], [39.058365, -77.0479816666667], [39.058365, -77.0479816666667], [39.058365, -77.0479816666667], [39.058365, -77.0479816666667], [39.023205, -77.1498516666667], [39.058365, -77.0479816666667], [39.023205, -77.1498516666667], [39.058365, -77.0479816666667], [39.023205, -77.1498516666667], [39.058365, -77.0479816666667], [39.023205, -77.1498516666667], [39.058365, -77.0479816666667], [38.99957, -76.9905783333333], [38.99957, -76.9905783333333], [38.99957, -76.9905783333333], [38.99957, -76.9905783333333], [38.99957, -76.9905783333333], [38.99957, -76.9905783333333], [38.99957, -76.9905783333333], [38.99957, -76.9905783333333], [0.0, 0.0], [0.0, 0.0], [0.0, 0.0], [0.0, 0.0], [0.0, 0.0], [0.0, 0.0], [39.1282916666667, -77.2373483333333], [39.1282916666667, -77.2373483333333], [39.1282916666667, -77.2373483333333], [39.1282916666667, -77.2373483333333], [39.1282916666667, -77.2373483333333], [39.1282916666667, -77.2373483333333], [39.1282916666667, -77.2373483333333], [39.1282916666667, -77.2373483333333], [39.140635, -77.1947016666667], [39.140635, -77.1947016666667], [39.140635, -77.1947016666667], [39.140635, -77.1947016666667], [39.140635, -77.1947016666667], [39.140635, -77.1947016666667], [0.0, 0.0], [39.140635, -77.1947016666667], [0.0, 0.0], [0.0, 0.0], [39.08767, -77.0804783333333], [39.08767, -77.0804783333333], [39.08767, -77.0804783333333], [39.08767, -77.0804783333333], [39.08767, -77.0804783333333], [39.08767, -77.0804783333333], [0.0, 0.0], [0.0, 0.0], [0.0, 0.0], [0.0, 0.0], [0.0, 0.0], [39.15362, -77.2089783333333], [39.15362, -77.2089783333333], [39.15362, -77.2089783333333], [39.15362, -77.2089783333333], [39.15362, -77.2089783333333], [39.15362, -77.2089783333333], [39.15362, -77.2089783333333], [39.15362, -77.2089783333333], [39.02267, -77.123085], [39.02267, -77.123085], [39.02267, -77.123085], [39.02267, -77.123085], [39.0303766666667, -76.9872616666667], [39.0303766666667, -76.9872616666667], [39.0303766666667, -76.9872616666667], [39.0303766666667, -76.9872616666667], [39.0303766666667, -76.9872616666667], [39.0303766666667, -76.9872616666667], [39.042885, -77.0526566666667], [39.0303766666667, -76.9872616666667], [39.042885, -77.0526566666667], [39.0303766666667, -76.9872616666667], [39.042885, -77.0526566666667], [39.0303766666667, -76.9872616666667], [39.042885, -77.0526566666667], [39.0303766666667, -76.9872616666667], [39.042885, -77.0526566666667], [39.0303766666667, -76.9872616666667], [39.042885, -77.0526566666667], [39.0303766666667, -76.9872616666667], [39.042885, -77.0526566666667], [39.0303766666667, -76.9872616666667], [39.042885, -77.0526566666667], [39.0303766666667, -76.9872616666667], [39.042885, -77.0526566666667], [38.9993883333333, -77.0736566666667], [38.9993883333333, -77.0736566666667], [39.1496416666667, -77.2337433333333], [38.9993883333333, -77.0736566666667], [39.1496416666667, -77.2337433333333], [38.9993883333333, -77.0736566666667], [39.1496416666667, -77.2337433333333], [38.9993883333333, -77.0736566666667], [39.1496416666667, -77.2337433333333], [38.9993883333333, -77.0736566666667], [39.1496416666667, -77.2337433333333], [38.9993883333333, -77.0736566666667], [39.1496416666667, -77.2337433333333], [38.9993883333333, -77.0736566666667], [39.1496416666667, -77.2337433333333], [38.9993883333333, -77.0736566666667], [39.1496416666667, -77.2337433333333], [39.1496416666667, -77.2337433333333], [39.1496416666667, -77.2337433333333], [39.1496416666667, -77.2337433333333], [39.1496416666667, -77.2337433333333], [39.1496416666667, -77.2337433333333], [39.1496416666667, -77.2337433333333], [39.1496416666667, -77.2337433333333], [39.1496416666667, -77.2337433333333], [39.1496416666667, -77.2337433333333], [39.078595, -77.069165], [39.078595, -77.069165], [39.078595, -77.069165], [39.078595, -77.069165], [39.078595, -77.069165], [39.078595, -77.069165], [39.0329383333333, -77.0724483333333], [39.0329383333333, -77.0724483333333], [39.0329383333333, -77.0724483333333], [39.0732616666667, -77.0677633333333], [39.14364, -77.2116583333333], [39.0732616666667, -77.0677633333333], [39.14364, -77.2116583333333], [39.0732616666667, -77.0677633333333], [39.14364, -77.2116583333333], [39.0732616666667, -77.0677633333333], [39.14364, -77.2116583333333], [39.0732616666667, -77.0677633333333], [39.14364, -77.2116583333333], [39.0732616666667, -77.0677633333333], [39.14364, -77.2116583333333], [39.14364, -77.2116583333333], [39.14364, -77.2116583333333], [39.0408615244825, -77.0539276543176], [39.0408615244825, -77.0539276543176], [39.0408615244825, -77.0539276543176], [39.0408615244825, -77.0539276543176], [39.0408615244825, -77.0539276543176], [39.0408615244825, -77.0539276543176], [39.0408615244825, -77.0539276543176], [39.0408615244825, -77.0539276543176], [39.0408615244825, -77.0539276543176], [39.0408615244825, -77.0539276543176], [39.0408615244825, -77.0539276543176], [39.0408615244825, -77.0539276543176], [39.0408615244825, -77.0539276543176], [39.0408615244825, -77.0539276543176], [39.1812383333333, -77.2674033333333], [39.1812383333333, -77.2674033333333], [39.1812383333333, -77.2674033333333], [39.1812383333333, -77.2674033333333], [39.1812383333333, -77.2674033333333], [39.1812383333333, -77.2674033333333], [39.1812383333333, -77.2674033333333], [39.1812383333333, -77.2674033333333], [39.1812383333333, -77.2674033333333], [39.0694483333333, -77.1621433333333], [39.0694483333333, -77.1621433333333], [39.0694483333333, -77.1621433333333], [39.0694483333333, -77.1621433333333], [39.0694483333333, -77.1621433333333], [39.0694483333333, -77.1621433333333], [39.0694483333333, -77.1621433333333], [39.0694483333333, -77.1621433333333], [39.0694483333333, -77.1621433333333], [39.0296766666667, -77.07409], [39.0296766666667, -77.07409], [39.0296766666667, -77.07409], [39.1804866666667, -77.2669916666667], [39.1804866666667, -77.2669916666667], [39.1804866666667, -77.2669916666667], [39.1804866666667, -77.2669916666667], [39.1499483333333, -77.208855], [39.1499483333333, -77.208855], [39.1499483333333, -77.208855], [39.1499483333333, -77.208855], [39.1499483333333, -77.208855], [39.1499483333333, -77.208855], [39.1499483333333, -77.208855], [39.2870766666667, -77.202105], [39.2870766666667, -77.202105], [39.2870766666667, -77.202105], [39.2870766666667, -77.202105], [39.2870766666667, -77.202105], [39.2870766666667, -77.202105], [39.2870766666667, -77.202105], [39.2870766666667, -77.202105], [0.0, 0.0], [39.2909266666667, -77.2049316666667], [39.2909266666667, -77.2049316666667], [39.2909266666667, -77.2049316666667], [39.2909266666667, -77.2049316666667], [39.2909266666667, -77.2049316666667], [39.2909266666667, -77.2049316666667], [39.1497483333333, -77.2338783333333], [39.1497483333333, -77.2338783333333], [39.1497483333333, -77.2338783333333], [39.1497483333333, -77.2338783333333], [39.1497483333333, -77.2338783333333], [39.1497483333333, -77.2338783333333], [39.1497483333333, -77.2338783333333], [39.1497483333333, -77.2338783333333], [39.1497483333333, -77.2338783333333], [39.1497483333333, -77.2338783333333], [39.1497483333333, -77.2338783333333], [39.1497483333333, -77.2338783333333], [39.0794633333333, -77.1369016666667], [39.0794633333333, -77.1369016666667], [39.0794633333333, -77.1369016666667], [39.0794633333333, -77.1369016666667], [39.1449283333333, -77.21842], [39.1449283333333, -77.21842], [39.1449283333333, -77.21842], [39.1449283333333, -77.21842], [39.1449283333333, -77.21842], [39.1449283333333, -77.21842], [39.1449283333333, -77.21842], [38.993975, -77.1641233333333], [39.1777166666667, -77.26592], [39.1777166666667, -77.26592], [39.1777166666667, -77.26592], [39.2854183333333, -77.2086933333333], [39.2854183333333, -77.2086933333333], [39.2854183333333, -77.2086933333333], [39.2854183333333, -77.2086933333333], [39.2854183333333, -77.2086933333333], [39.2854183333333, -77.2086933333333], [39.2854183333333, -77.2086933333333], [38.986615, -77.0263066666667], [38.986615, -77.0263066666667], [38.986615, -77.0263066666667], [38.986615, -77.0263066666667], [39.1987933333333, -77.253455], [39.1987933333333, -77.253455], [39.1987933333333, -77.253455], [39.1987933333333, -77.253455], [39.2259216666667, -77.2369516666667], [39.2259216666667, -77.2369516666667], [39.2259216666667, -77.2369516666667], [39.2259216666667, -77.2369516666667], [39.2259216666667, -77.2369516666667], [39.1547516666667, -77.2868383333333], [39.1547516666667, -77.2868383333333], [39.1547516666667, -77.2868383333333], [39.1991, -77.26024], [39.1991, -77.26024], [39.1991, -77.26024], [39.1991, -77.26024], [39.1991, -77.26024], [39.1991, -77.26024], [0.0, 0.0], [0.0, 0.0], [0.0, 0.0], [0.0, 0.0], [0.0, 0.0], [0.0, 0.0], [0.0, 0.0], [0.0, 0.0], [0.0, 0.0], [39.0693866666667, -77.1620516666667], [39.0693866666667, -77.1620516666667], [39.0693866666667, -77.1620516666667], [0.0, 0.0], [39.0693866666667, -77.1620516666667], [39.0693866666667, -77.1620516666667], [39.0693866666667, -77.1620516666667], [39.0693866666667, -77.1620516666667], [39.0693866666667, -77.1620516666667], [39.0693866666667, -77.1620516666667], [39.0693866666667, -77.1620516666667], [39.0693866666667, -77.1620516666667], [39.0693866666667, -77.1620516666667], [39.0693866666667, -77.1620516666667], [39.0693866666667, -77.1620516666667], [39.0693866666667, -77.1620516666667], [39.0694083333333, -77.1620266666667], [39.0694083333333, -77.1620266666667], [39.0694083333333, -77.1620266666667], [39.0694083333333, -77.1620266666667], [39.0694083333333, -77.1620266666667], [39.0694083333333, -77.1620266666667], [39.2060583333333, -77.24623], [39.2060583333333, -77.24623], [39.2060583333333, -77.24623], [39.2060583333333, -77.24623], [0.0, 0.0], [0.0, 0.0], [0.0, 0.0], [0.0, 0.0], [0.0, 0.0], [0.0, 0.0], [0.0, 0.0], [0.0, 0.0], [0.0, 0.0], [0.0, 0.0], [0.0, 0.0], [0.0, 0.0], [0.0, 0.0], [39.176113, -77.2711108333333], [39.176113, -77.2711108333333], [39.176113, -77.2711108333333], [0.0, 0.0], [0.0, 0.0], [0.0, 0.0], [0.0, 0.0], [0.0, 0.0], [0.0, 0.0], [0.0, 0.0], [0.0, 0.0], [0.0, 0.0], [0.0, 0.0], [0.0, 0.0], [39.17603, -77.2369683333333], [39.175975, -77.237015], [39.175975, -77.237015], [39.175975, -77.237015], [39.17603, -77.2369683333333], [39.17603, -77.2369683333333], [39.17603, -77.2369683333333], [0.0, 0.0], [0.0, 0.0], [0.0, 0.0], [0.0, 0.0], [0.0, 0.0], [0.0, 0.0], [39.1756783333333, -77.2377916666667], [0.0, 0.0], [39.1756783333333, -77.2377916666667], [0.0, 0.0], [39.1756783333333, -77.2377916666667], [0.0, 0.0], [39.1756783333333, -77.2377916666667], [0.0, 0.0], [39.1756783333333, -77.2377916666667], [0.0, 0.0], [0.0, 0.0], [0.0, 0.0], [0.0, 0.0], [39.176045, -77.2368933333333], [39.176045, -77.2368933333333], [39.176045, -77.2368933333333], [0.0, 0.0], [0.0, 0.0], [0.0, 0.0], [0.0, 0.0], [0.0, 0.0], [0.0, 0.0], [39.24436, -77.2345366666667], [0.0, 0.0], [39.24436, -77.2345366666667], [0.0, 0.0], [39.24436, -77.2345366666667], [0.0, 0.0], [0.0, 0.0], [0.0, 0.0], [0.0, 0.0], [39.13334, -77.2242366666667], [0.0, 0.0], [0.0, 0.0], [0.0, 0.0], [0.0, 0.0], [0.0, 0.0], [0.0, 0.0], [0.0, 0.0], [0.0, 0.0], [0.0, 0.0], [0.0, 0.0], [0.0, 0.0], [0.0, 0.0], [0.0, 0.0], [0.0, 0.0], [0.0, 0.0], [0.0, 0.0], [0.0, 0.0], [0.0, 0.0], [0.0, 0.0], [0.0, 0.0], [0.0, 0.0], [39.0693733333333, -77.16195], [39.0693733333333, -77.16195], [39.0693733333333, -77.16195], [39.0693733333333, -77.16195], [39.0693733333333, -77.16195], [39.0693733333333, -77.16195], [39.0693733333333, -77.16195], [39.0693733333333, -77.16195], [39.0693733333333, -77.16195], [39.0693733333333, -77.16195], [39.0693733333333, -77.16195], [39.0693733333333, -77.16195], [39.0693733333333, -77.16195], [39.0693733333333, -77.16195], [39.0693733333333, -77.16195], [39.0693733333333, -77.16195], [39.1231133333333, -77.176825], [39.0584016666667, -77.048025], [39.0584016666667, -77.048025], [39.0584016666667, -77.048025], [39.0584016666667, -77.048025], [39.0584016666667, -77.048025], [39.0584016666667, -77.048025], [39.0584016666667, -77.048025], [39.0584016666667, -77.048025], [39.0584016666667, -77.048025], [39.0584016666667, -77.048025], [39.0584016666667, -77.048025], [39.0584016666667, -77.048025], [39.0584016666667, -77.048025], [39.0584016666667, -77.048025], [39.2870766666667, -77.202105], [39.2870766666667, -77.202105], [39.2870766666667, -77.202105], [39.1187983333333, -77.23623], [0.0, 0.0], [0.0, 0.0], [39.1061766666667, -77.2331633333333], [39.16897795, -77.27946455], [39.024505, -76.9795516666667], [39.0303766666667, -76.9872616666667], [39.0303766666667, -76.9872616666667], [39.0303766666667, -76.9872616666667], [38.9993883333333, -77.0736566666667], [39.08767, -77.0804783333333], [39.08767, -77.0804783333333], [39.08767, -77.0804783333333], [39.08767, -77.0804783333333], [39.08767, -77.0804783333333], [39.08767, -77.0804783333333], [39.1069566666667, -76.9206616666667], [39.1069566666667, -76.9206616666667], [39.0693866666667, -77.059875], [39.0693866666667, -77.059875], [39.0583683333333, -77.0480483333333], [38.99987, -76.990875], [38.9828716666667, -77.0939166666667], [39.0999283333333, -77.00411], [39.0717683333333, -76.9885766666667], [39.0717683333333, -76.9885766666667], [39.0717683333333, -76.9885766666667], [39.0717683333333, -76.9885766666667], [39.0646116666667, -77.0380883333333], [38.993975, -77.1641233333333], [38.9603633333333, -77.1145116666667], [38.9603633333333, -77.1145116666667], [0.0, 0.0], [39.0194183333333, -77.0127566666667], [39.11313, -77.2220116666667], [39.053315, -77.1128], [39.0583683333333, -77.0480483333333], [0.0, 0.0], [39.045425, -76.9907366666667], [39.0194183333333, -77.0127566666667], [39.0194183333333, -77.0127566666667], [0.0, 0.0], [0.0, 0.0], [0.0, 0.0], [0.0, 0.0], [0.0, 0.0], [39.176105, -77.2368166666667], [39.176105, -77.2368166666667], [39.007825, -77.01962], [39.007825, -77.01962], [39.0531466666667, -77.0479666666667], [39.0531466666667, -77.0479666666667], [39.0531466666667, -77.0479666666667], [39.0531466666667, -77.0479666666667], [39.0531466666667, -77.0479666666667], [39.0531466666667, -77.0479666666667], [39.0531466666667, -77.0479666666667], [39.0531466666667, -77.0479666666667], [39.0531466666667, -77.0479666666667], [39.0531466666667, -77.0479666666667], [39.0531466666667, -77.0479666666667], [39.0531466666667, -77.0479666666667], [39.0531466666667, -77.0479666666667], [39.0531466666667, -77.0479666666667], [39.0457236666667, -76.9905666666667], [39.0457236666667, -76.9905666666667], [39.0457236666667, -76.9905666666667], [39.0457236666667, -76.9905666666667], [39.0457236666667, -76.9905666666667], [39.0457236666667, -76.9905666666667], [39.0457236666667, -76.9905666666667], [39.0457236666667, -76.9905666666667], [39.0457236666667, -76.9905666666667], [39.0457236666667, -76.9905666666667], [39.0457236666667, -76.9905666666667], [39.0457236666667, -76.9905666666667], [39.0457236666667, -76.9905666666667], [39.0457236666667, -76.9905666666667], [39.0457236666667, -76.9905666666667], [39.0457236666667, -76.9905666666667], [39.19132, -77.242355], [39.0691666666667, -77.1449161666667], [39.0691666666667, -77.1449161666667], [39.0691666666667, -77.1449161666667], [39.0691666666667, -77.1449161666667], [39.0691666666667, -77.1449161666667], [39.0691666666667, -77.1449161666667], [39.0691666666667, -77.1449161666667], [39.0691666666667, -77.1449161666667], [39.0691666666667, -77.1449161666667], [39.0691666666667, -77.1449161666667], [39.0696263333333, -77.1043121666667], [39.0696263333333, -77.1043121666667], [39.0696263333333, -77.1043121666667], [39.0696263333333, -77.1043121666667], [39.0696263333333, -77.1043121666667], [39.0696263333333, -77.1043121666667], [39.0696263333333, -77.1043121666667], [39.0696263333333, -77.1043121666667], [39.0696263333333, -77.1043121666667], [39.0213048333333, -76.9764893333333], [39.0213048333333, -76.9764893333333], [39.0213048333333, -76.9764893333333], [39.0213048333333, -76.9764893333333], [0.0, 0.0], [39.0106576666667, -77.0412825], [39.0106576666667, -77.0412825], [39.0106576666667, -77.0412825], [39.0106576666667, -77.0412825], [39.0694166666667, -77.1621233333333], [39.0694166666667, -77.1621233333333]],\n",
       "                {&quot;blur&quot;: 15, &quot;maxZoom&quot;: 18, &quot;minOpacity&quot;: 0.5, &quot;radius&quot;: 25}\n",
       "            ).addTo(map_f6fa2cbab96608580e39953b5e5c8a78);\n",
       "        \n",
       "&lt;/script&gt;\" style=\"position:absolute;width:100%;height:100%;left:0;top:0;border:none !important;\" allowfullscreen webkitallowfullscreen mozallowfullscreen></iframe></div></div>"
      ],
      "text/plain": [
       "<folium.folium.Map at 0x7f866d146eb0>"
      ]
     },
     "execution_count": 58,
     "metadata": {},
     "output_type": "execute_result"
    }
   ],
   "source": [
    "#List Comprehension \n",
    "s = fm.Map(location=[39.146036, -77.411927], tiles='Stamen Toner', zoom_start=10)\n",
    "heat_data = [[row['Latitude'],row['Longitude']] for index, row in traffic_n_sip.iterrows()]\n",
    "HeatMap(heat_data).add_to(s)\n",
    "s"
   ]
  },
  {
   "cell_type": "markdown",
   "metadata": {},
   "source": [
    "#### The drinking and driving areas are most common in the same regions"
   ]
  },
  {
   "attachments": {},
   "cell_type": "markdown",
   "metadata": {},
   "source": [
    "#### Conclusion:\n",
    "White males in Montgomery county are more subject to traffic violations. Black cars are seen as a major target for cars in traffic violation stops in Montgomery County. Accidents are more common on occasions such as sport games in Montgomery County.Driving under the influence violations were more common on Thursdays in Montgomery County. "
   ]
  }
 ],
 "metadata": {
  "colab": {
   "collapsed_sections": [],
   "name": "Data_capstone_copy.ipynb",
   "provenance": []
  },
  "kernelspec": {
   "display_name": "Python 3 (ipykernel)",
   "language": "python",
   "name": "python3"
  },
  "language_info": {
   "codemirror_mode": {
    "name": "ipython",
    "version": 3
   },
   "file_extension": ".py",
   "mimetype": "text/x-python",
   "name": "python",
   "nbconvert_exporter": "python",
   "pygments_lexer": "ipython3",
   "version": "3.9.7"
  }
 },
 "nbformat": 4,
 "nbformat_minor": 1
}
